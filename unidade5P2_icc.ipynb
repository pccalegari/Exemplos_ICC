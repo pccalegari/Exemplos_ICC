{
  "nbformat": 4,
  "nbformat_minor": 0,
  "metadata": {
    "colab": {
      "provenance": [],
      "authorship_tag": "ABX9TyPkkuyQonFN+UmVTK0zPocl",
      "include_colab_link": true
    },
    "kernelspec": {
      "name": "python3",
      "display_name": "Python 3"
    },
    "language_info": {
      "name": "python"
    }
  },
  "cells": [
    {
      "cell_type": "markdown",
      "metadata": {
        "id": "view-in-github",
        "colab_type": "text"
      },
      "source": [
        "<a href=\"https://colab.research.google.com/github/pccalegari/Exemplos_ICC/blob/main/unidade5P2_icc.ipynb\" target=\"_parent\"><img src=\"https://colab.research.google.com/assets/colab-badge.svg\" alt=\"Open In Colab\"/></a>"
      ]
    },
    {
      "cell_type": "markdown",
      "metadata": {
        "id": "rRH8GXuTqTjd"
      },
      "source": [
        "\n",
        "\n",
        "\n",
        "\n",
        "# Unidade 5 - Estruturas de dados básicas\n",
        "\n",
        "\n"
      ]
    },
    {
      "cell_type": "markdown",
      "metadata": {
        "id": "SUHnaI9tH795"
      },
      "source": [
        "Até agora estudamos variáveis simples, capazes de armazenar apenas um tipo, como *bool*, *float* e *int*. Nesta unidade, vamos estudar algumas estruturas de dados simples, os **vetores** e as **matrizes**, em um contexto geral. Estas estruturas servem para armazenar dados durante a execução do programa. Vamos ver exemplos de aplicação destas estruturas na modelagem e resolução de problemas computacionais. Em seguida, vamos estudar as estruturas de dados da linguagem de programação *Python*, como listas, dicionários, entre outras, para nos auxiliar na implementação de vetores e matrizes."
      ]
    },
    {
      "cell_type": "markdown",
      "source": [
        "# Tuplas\n",
        "\n",
        "Uma tupla é uma sequência de dados muito parecida com uma lista.\n",
        "\n",
        "*   Os valores podem ser de qualquer tipo.\n",
        "*   Os valores são indexados por números inteiros.\n",
        "*   As tuplas são imutáveis.\n",
        "*   Podemos usar parenteses para identificar uma tupla.\n",
        "\n",
        "Exemplo:\n",
        "\n",
        "```\n",
        "t = 'A', 1, [1,2,3]\n",
        "print(type(t))\n",
        "print(t[2])\n",
        "t[0] = 'B'\n",
        "```\n",
        "\n",
        "**Uso de tuplas:**\n",
        "\n",
        "Alguns exemplos de uso.\n",
        "\n",
        "*   Permutar valores de variáveis em uma única instrução.\n",
        "*   Funções que retornam mais de um valor.\n",
        "\n",
        "\n"
      ],
      "metadata": {
        "id": "BzfCDkbctjB2"
      }
    },
    {
      "cell_type": "code",
      "source": [],
      "metadata": {
        "id": "B9swfKD0y_Z0"
      },
      "execution_count": 3,
      "outputs": []
    },
    {
      "cell_type": "markdown",
      "source": [
        "# Dicionários\n",
        "\n",
        "Dicionário é uma estrutura de dados que usa um mapeamento. Esse mapa é uma ssociação que não possui ordem, como no caso de listas e tuplas. A associação (ou mapeamento) é feita a partir de uma chave, que deve ser um objeto imutável, (uma *string* ou uma tupla, por exemplo) para um valor, que pode ser um dado de qualquer tipo.\n",
        "\n",
        "Exemplo:\n",
        "```\n",
        "matricula = {}\n",
        "matricula['Alice'] = 123\n",
        "matricula['Ben'] = 134\n",
        "matricula['Carlos'] = 170\n",
        "matricula['Deise'] = 101\n",
        "```\n",
        "\n",
        "Alguns métodos:\n",
        "\n",
        "\n",
        "*   keys: devolve as chaves do dicionário.\n",
        "*   values: devolve os valores do dicionário.\n",
        "*   items: devolve os pares chave-valor do dicionário.\n",
        "*   get(key): devolve o valor associado a chave ou *None*.\n",
        "\n",
        "Uma maneira de percorrer um dicionário:\n",
        "\n",
        "```\n",
        "for chave in matricula.keys():\n",
        "   print(chave, matricula[chave])\n",
        "```\n",
        "\n",
        "Para armazenar chaves e valores de um dicionário em listas:\n",
        "\n",
        "```\n",
        "nomes = list(matricula.keys())\n",
        "matriculas = list(matricula.items())\n",
        "```\n",
        "\n",
        "Uma matriz esparsa é uma matriz que contém muitos elementos nulos. Podemos usar um dicionário para armazenar apenas os elementos não nulos da matriz. O índice $(i,j)$ da matriz é a chave.\n",
        "\n",
        "\n",
        "\n",
        "\n"
      ],
      "metadata": {
        "id": "vs71n2bXh3_1"
      }
    },
    {
      "cell_type": "code",
      "source": [],
      "metadata": {
        "id": "NFJAfVC3DFS_"
      },
      "execution_count": null,
      "outputs": []
    }
  ]
}