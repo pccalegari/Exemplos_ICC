{
  "nbformat": 4,
  "nbformat_minor": 0,
  "metadata": {
    "colab": {
      "provenance": [],
      "authorship_tag": "ABX9TyOT2ZCJDhHWV6VMJwNsHXmB",
      "include_colab_link": true
    },
    "kernelspec": {
      "name": "python3",
      "display_name": "Python 3"
    },
    "language_info": {
      "name": "python"
    }
  },
  "cells": [
    {
      "cell_type": "markdown",
      "metadata": {
        "id": "view-in-github",
        "colab_type": "text"
      },
      "source": [
        "<a href=\"https://colab.research.google.com/github/pccalegari/Exemplos_ICC/blob/main/unidade5P2_icc.ipynb\" target=\"_parent\"><img src=\"https://colab.research.google.com/assets/colab-badge.svg\" alt=\"Open In Colab\"/></a>"
      ]
    },
    {
      "cell_type": "markdown",
      "metadata": {
        "id": "rRH8GXuTqTjd"
      },
      "source": [
        "\n",
        "\n",
        "\n",
        "\n",
        "# Unidade 5 - Estruturas de dados básicas\n",
        "\n",
        "\n"
      ]
    },
    {
      "cell_type": "markdown",
      "metadata": {
        "id": "SUHnaI9tH795"
      },
      "source": [
        "Até agora estudamos variáveis simples, capazes de armazenar apenas um tipo, como *bool*, *float* e *int*. Nesta unidade, vamos estudar algumas estruturas de dados simples, os **vetores** e as **matrizes**, em um contexto geral. Estas estruturas servem para armazenar dados durante a execução do programa. Vamos ver exemplos de aplicação destas estruturas na modelagem e resolução de problemas computacionais. Em seguida, vamos estudar as estruturas de dados da linguagem de programação *Python*, como listas, dicionários, entre outras, para nos auxiliar na implementação de vetores e matrizes."
      ]
    },
    {
      "cell_type": "markdown",
      "source": [
        "# Tuplas\n",
        "\n",
        "Uma tupla é uma sequência de dados muito parecida com uma lista.\n",
        "\n",
        "*   Os valores podem ser de qualquer tipo.\n",
        "*   Os valores são indexados por números inteiros.\n",
        "*   As tuplas são imutáveis.\n",
        "*   Podemos usar parenteses para identificar uma tupla.\n",
        "\n",
        "Exemplo:\n",
        "\n",
        "```\n",
        "t = 'A', 1, [1,2,3]\n",
        "print(type(t))\n",
        "print(t[2])\n",
        "t[0] = 'B'\n",
        "```\n",
        "\n",
        "**Uso de tuplas:**\n",
        "\n",
        "Alguns exemplos de uso.\n",
        "\n",
        "*   Permutar valores de variáveis em uma única instrução.\n",
        "*   Funções que retornam mais de um valor.\n",
        "\n",
        "\n"
      ],
      "metadata": {
        "id": "BzfCDkbctjB2"
      }
    },
    {
      "cell_type": "code",
      "source": [],
      "metadata": {
        "id": "B9swfKD0y_Z0"
      },
      "execution_count": null,
      "outputs": []
    },
    {
      "cell_type": "markdown",
      "source": [
        "# Dicionários\n",
        "\n",
        "Dicionário é uma estrutura de dados que usa um mapeamento. Esse mapa é uma associação que não possui ordem, como no caso de listas e tuplas. A associação (ou mapeamento) é feita a partir de uma chave, que deve ser um objeto imutável, (uma *string* ou uma tupla, por exemplo) para um valor, que pode ser um dado de qualquer tipo.\n",
        "\n",
        "Exemplo:\n",
        "```\n",
        "matricula = {}\n",
        "matricula['Alice'] = 123\n",
        "matricula['Ben'] = 134\n",
        "matricula['Carlos'] = 170\n",
        "matricula['Deise'] = 101\n",
        "```\n",
        "\n",
        "Alguns métodos:\n",
        "\n",
        "\n",
        "*   keys: devolve as chaves do dicionário.\n",
        "*   values: devolve os valores do dicionário.\n",
        "*   items: devolve os pares chave-valor do dicionário.\n",
        "*   get(key): devolve o valor associado a chave ou *None*.\n",
        "\n",
        "Uma maneira de percorrer um dicionário:\n",
        "\n",
        "```\n",
        "for chave in matricula.keys():\n",
        "   print(chave, matricula[chave])\n",
        "```\n",
        "\n",
        "Para armazenar chaves e valores de um dicionário em listas:\n",
        "\n",
        "```\n",
        "nomes = list(matricula.keys())\n",
        "matriculas = list(matricula.items())\n",
        "```\n",
        "\n",
        "\n",
        "\n",
        "\n",
        "\n"
      ],
      "metadata": {
        "id": "vs71n2bXh3_1"
      }
    },
    {
      "cell_type": "code",
      "source": [],
      "metadata": {
        "id": "NFJAfVC3DFS_"
      },
      "execution_count": null,
      "outputs": []
    },
    {
      "cell_type": "markdown",
      "source": [
        "**Matrizes Esparsas**\n",
        "\n",
        "Uma matriz esparsa é uma matriz que contém muitos elementos nulos. Podemos usar um dicionário para armazenar apenas os elementos não nulos da matriz. O índice $(i,j)$ da matriz é a chave.\n",
        "\n",
        "$$A = \\left(\\begin{array}{cccc}\n",
        "6 & 0 & 0 & 0\\\\\n",
        "-1 & 0 & 5 & 0 \\\\\n",
        "0 & 1 & 0 & 0\\\\\n",
        "0 & 3 & 0 & 2\\\\\n",
        "\\end{array}\\right)$$\n",
        "\n",
        "Como armazenar apenas os elementos não nulos da matriz?\n",
        "\n",
        "Usando um dicionário.\n",
        "\n",
        "```\n",
        "A = {(0, 0): 6, (1, 0): -1, (1, 2): 5, (2,1): 1, (3,1): 3, (3,3): 2}\n",
        "```\n",
        "\n",
        "Para acessar os elementos da matriz, usamos a chave do dicionário.\n",
        "\n",
        "```\n",
        "elemento = A[(0,0)]\n",
        "```\n",
        "Um problema no acesso dos elementos da matriz surge quando não sabemos quais são não nulos. Pois nesse caso não existe uma chave para acesso do dicionário.\n",
        "\n",
        "```\n",
        "ele = A[(0,1)]\n",
        "```\n",
        "A alternativa é usar o método *get*. O primeiro argumento será a chave e o segundo argumento é o valor que *get* deve devolver caso não exista a chave no dicionário. Nesse caso, o valor é zero, já que a matriz é esparsa.\n",
        "\n",
        "```\n",
        "print(A.get((0,3)))\n",
        "print(A.get((1, 3), 0))\n",
        "```\n",
        "\n",
        "Lembrando que *Python* é uma linguagem de programação orientada a objetos. Assim, muitos métodos já implementados são usados como descrito acima, com o operador $\\cdot$ (ponto). Nesse caso, A é o nome de é um dicionário (um objeto) e *get* é um método implementado para essa classe de objetos. Assim para usarmos esse método em nosso dicionário A, usamos a sintaxe:\n",
        "\n",
        "```\n",
        "nome-obj.nome-metodo(args)\n",
        "```\n",
        "\n",
        "args: argumentos, se necessário."
      ],
      "metadata": {
        "id": "AQZJk_JaeKu0"
      }
    },
    {
      "cell_type": "code",
      "source": [],
      "metadata": {
        "id": "sfym2mnqgPWs"
      },
      "execution_count": 13,
      "outputs": []
    },
    {
      "cell_type": "markdown",
      "source": [
        "**Exercícios:**\n",
        "\n",
        "1. Execute as seguintes instruções:\n",
        "\n",
        "```\n",
        "d = {'maças': 15, 'bananas': 35, 'uvas': 12}\n",
        "print(d['banana'])\n",
        "d['laranjas'] = 20\n",
        "print(len(d))\n",
        "print('uvas' in d)\n",
        "print(d['peras'])\n",
        "print(d.get('peras', 0))\n",
        "fruits = d.keys()\n",
        "fruits.sort()\n",
        "print(fruits)\n",
        "del d['maças']\n",
        "print('maças' in d)\n",
        "```\n",
        "\n",
        "Certifique-se de que você entendeu a razão de cada resultado. Então aplique o que você aprendeu para preencher o corpo da função *adiciona_fruta*:\n",
        "\n",
        "```\n",
        "def adiciona_fruta(estoque, fruta, quantidade=0):\n",
        "     pass\n",
        "\n",
        "def teste(estoque, fruta, quantidade):\n",
        "    if (len(estoque) == 0):\n",
        "        print(\"Estoque vazio!\")\n",
        "    else:\n",
        "        if(fruta in estoque):\n",
        "            print(\"Passou no teste de verificação! Fruta em estoque!\")\n",
        "        else:\n",
        "            print(\"Não passou no teste de verificação! Sem a fruta!\")\n",
        "        if estoque[fruta] == quantidade:\n",
        "            print(\"Passou no teste de verificação de quantidade!\")\n",
        "        else:\n",
        "            print(\"Não passou no teste de verificação de quantidade!\")\n",
        "\n",
        "# faça esses testes funcionarem...\n",
        "novo_estoque = {}\n",
        "adiciona_fruta(novo_estoque, 'morangos', 10)\n",
        "teste(novo_estoque, 'morangos', 10)\n",
        "adiciona_fruta(novo_estoque, 'morangos', 25)\n",
        "teste(novo_estoque, 'morangos', 35)\n",
        "\n",
        "```\n",
        "\n",
        "2.  Escreva um programa que lê uma *string* e retorna uma tabela com as letras do alfabeto em ordem alfabética que ocorrem na sequência junto com o número de vezes que cada letra ocorre. Ignore se as letras são maiúsculas ou minúsculas. Por exemplo para a frase: *Subi no onibus em Marrocos*. A saída será:\n",
        "```\n",
        "a  1\n",
        "b  2\n",
        "c  1\n",
        "e  1\n",
        "i  3\n",
        "m  3\n",
        "n  2\n",
        "o  5\n",
        "r  2\n",
        "s  4\n",
        "u  2\n",
        "```"
      ],
      "metadata": {
        "id": "B9utv3oykCU8"
      }
    },
    {
      "cell_type": "code",
      "source": [],
      "metadata": {
        "id": "lFvrEzQSlAkD"
      },
      "execution_count": 12,
      "outputs": []
    }
  ]
}