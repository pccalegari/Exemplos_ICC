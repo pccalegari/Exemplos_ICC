{
  "nbformat": 4,
  "nbformat_minor": 0,
  "metadata": {
    "colab": {
      "provenance": [],
      "authorship_tag": "ABX9TyO31tAkDhvYvhc2jkCflo47",
      "include_colab_link": true
    },
    "kernelspec": {
      "name": "python3",
      "display_name": "Python 3"
    },
    "language_info": {
      "name": "python"
    }
  },
  "cells": [
    {
      "cell_type": "markdown",
      "metadata": {
        "id": "view-in-github",
        "colab_type": "text"
      },
      "source": [
        "<a href=\"https://colab.research.google.com/github/pccalegari/Exemplos_ICC/blob/main/Fun%C3%A7%C3%B5es.ipynb\" target=\"_parent\"><img src=\"https://colab.research.google.com/assets/colab-badge.svg\" alt=\"Open In Colab\"/></a>"
      ]
    },
    {
      "cell_type": "markdown",
      "source": [
        "# Funções\n",
        "\n",
        "Um programa pode ser organizado com o uso de funções, onde cada função é responsável por executar uma tarefa por meio de uma sequência de instruções. A principal finalidade de uma função é resolver uma parte do problema.\n",
        "\n",
        "Já estamos fazendo uso de algumas funções nativas do *Python*, como por exemplo: print(), input(), abs(), int(), float(), etc.\n",
        "\n",
        "Uma função recebe parâmetros (dados de entrada) e devolve um resultado (dado de saída).\n",
        "\n",
        "![Captura de tela de 2023-09-18 08-26-26.png](data:image/png;base64,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)\n",
        "\n",
        "**Motivação:**\n",
        "\n",
        "*Problema*: Escreva um programa que receba um número real $x$ e um número inteiro $n$ e devolva $x^n$.\n",
        "\n",
        "*Estratégia*: Utilizando um comando de repetição, com $n$ repetições, acumular em uma variável: $pot ← pot\\cdot x$.\n",
        "\n",
        "*Python:*\n",
        "\n",
        "```\n",
        "x = float(input(\"Digite a base (número real):\"))\n",
        "n = int(input(\"Digite o expoente (número inteiro):\"))\n",
        "pot = 1\n",
        "for i in range(n):\n",
        "   pot = pot*x\n",
        "print(\"x^n = \", pot)\n",
        "```\n",
        "\n",
        "Agora vamos considerar o seguinte problema.\n",
        "\n",
        "Dados, $x, y, a$ e $b$, queremos calcular a expressão: $x^a+y^b+(x-y)^{a+b}$.\n",
        "\n",
        "Uma solução, nada elegante e não recomendada, seria copiar o trecho de código que calcula a potência de um número três vezes. A probabilidade de cometermos um erro é alta e o programa fica desorganizado.\n",
        "\n",
        "Para resolver esse problema vamos escrever uma função que calcula a potência de um número. Para escrever uma função em *Python*, temos a seguinte sintaxe:\n",
        "\n",
        "```\n",
        "def nome_funcao(parametros):\n",
        "   # Comentarios que descrevem a função\n",
        "   # corpo da função\n",
        "   <Bloco de comandos>\n",
        "   return\n",
        "```\n",
        "\n",
        "**Observação:** Algumas funções não devolvem nada, como por exemplo, a função print() que escreve na tela.\n",
        "O comando **return** é usado em funções que devolvem algum dado.\n",
        "\n",
        "Vamos escrever a função que calcula a potência de um número.\n",
        "\n",
        "```\n",
        "def potencia(x, n):\n",
        "   pot = 1\n",
        "   for i in range(n):\n",
        "   pot = pot*x\n",
        "   return pot\n",
        "```\n",
        "\n",
        "Exemplo:\n",
        "\n",
        "```\n",
        "def potencia(x, n):\n",
        "   pot = 1\n",
        "   for i in range(n):\n",
        "   pot = pot*x\n",
        "   return pot\n",
        "\n",
        "x = float(input(\"Digite o valor de x:\"))\n",
        "y = float(input(\"Digite o valor de y:\"))\n",
        "a = int(input(\"Digite o valor de a:\"))\n",
        "b = int(input(\"Digite o valor de b:\"))\n",
        "\n",
        "potx = potencia(x, a)\n",
        "poty = potencia(y, b)\n",
        "potxy = potencia(x-y, a+b)\n",
        "resultado = potx + poty + potxy\n",
        "\n",
        "print(\"Resultado da expressao eh: \", resultado)\n",
        "```\n"
      ],
      "metadata": {
        "id": "ELxZD9qa_Rp_"
      }
    },
    {
      "cell_type": "code",
      "source": [
        "def main():\n",
        "    y = 3\n",
        "    k = 0\n",
        "    yk = potencia(y, k)\n",
        "    print(y, \"**\", k, \"=\", yk)\n",
        "\n",
        "def potencia(x, n):\n",
        "    pot = 1\n",
        "    for i in range(n):\n",
        "        pot = pot*x\n",
        "    return pot\n",
        "\n",
        "main()\n"
      ],
      "metadata": {
        "id": "ijUnARYVVkVR",
        "outputId": "78ab1df5-cedd-4d57-c987-bbc8b638f877",
        "colab": {
          "base_uri": "https://localhost:8080/"
        }
      },
      "execution_count": 5,
      "outputs": [
        {
          "output_type": "stream",
          "name": "stdout",
          "text": [
            "3 ** 0 = 1\n"
          ]
        }
      ]
    },
    {
      "cell_type": "markdown",
      "source": [
        "**Esqueleto de um programa estruturado em Python**\n",
        "\n",
        "*   Primeiro definimos a função *main()*, a função principal que resolve o problema.\n",
        "*   Depois as funções auxiliares.\n",
        "*   Para executar o programa a função *main* dever ser **chamada**.\n",
        "*   O uso do “if __name__ == ‘__main__’ ” para a chamada da função main permite que esse arquivo contendo uma ou várias funções seja incluído em outros programas (usando “import” e suas variações) sem a necessidade de reescrever ou copiar o código.\n"
      ],
      "metadata": {
        "id": "UzDJTvGGByFP"
      }
    },
    {
      "cell_type": "code",
      "source": [
        "# Função principal que calcula: x^a+y^b+(x-y)^(a+b)\n",
        "def main():\n",
        "   # A função principal será a primeira a ser executasa e é responsável\n",
        "   # pela chamada das outras funções\n",
        "\n",
        "   # Corpo da função principal\n",
        "   x = float(input(\"Digite o valor de x: \"))\n",
        "   y = float(input(\"Digite o valor de y: \"))\n",
        "   a = int(input(\"Digite o valor de a: \"))\n",
        "   b = int(input(\"Digite o valor de b: \"))\n",
        "   potxa = potencia(x, a)\n",
        "   potyb = potencia(y, b)\n",
        "   potxyab = potencia(x-y, a+b)\n",
        "   resultado = potxa  + potyb + potxyab\n",
        "   print(\"O resutado da expressao eh: \", resultado)\n",
        "\n",
        "#função que calcula a potência de um número\n",
        "def potencia(x, n):\n",
        "   pot = 1\n",
        "   for i in range(n):\n",
        "      pot = pot*x\n",
        "   return pot\n",
        "\n",
        "if __name__ == '__main__': # chamada da funcao principal\n",
        "    main()\n"
      ],
      "metadata": {
        "id": "bQVA1QK3CwN4",
        "outputId": "cf82164a-3091-4463-906b-2e9d1d5f4f46",
        "colab": {
          "base_uri": "https://localhost:8080/"
        }
      },
      "execution_count": 7,
      "outputs": [
        {
          "output_type": "stream",
          "name": "stdout",
          "text": [
            "Digite o valor de x: 3\n",
            "Digite o valor de y: 5\n",
            "Digite o valor de a: 2\n",
            "Digite o valor de b: 4\n",
            "O resutado da expressao eh:  698.0\n"
          ]
        }
      ]
    },
    {
      "cell_type": "markdown",
      "source": [
        "**Variáveis Locais e Variáveis Globais**\n",
        "\n",
        "1.   Um comando de atribuição em uma função cria uma **variável local**.\n",
        "2.   Uma variável local só existe dentro de uma função e não pode ser usada fora dela.\n",
        "3.   Uma função pode acessar variáveis globais, mas essa é uma péssima prática de programação, pois perdemos o controle das variáveis envolvidas.\n",
        "\n",
        "\n",
        "*Exemplo ruim:*\n",
        "\n",
        "```\n",
        "expoente = 2\n",
        "\n",
        "def main():\n",
        "   resultado = potencia_ruim(100)\n",
        "   print(resultado)\n",
        "\n",
        "def potencia_ruim(x):\n",
        "   pot = 1\n",
        "   n = expoente\n",
        "   for i in range(n):\n",
        "      pot *= x\n",
        "   return pot\n",
        "\n",
        "main()\n",
        "\n",
        "```\n"
      ],
      "metadata": {
        "id": "tPby7UZU8DaJ"
      }
    },
    {
      "cell_type": "markdown",
      "source": [
        "**Vantagens:**\n",
        "\n",
        "Algumas vantagens do uso de funções:\n",
        "\n",
        "1.   Funções podem chamar outras funções. Esta é uma das mais importantes formas de se quebrar um problema em subproblemas.\n",
        "2.   Criar uma função permite simplificar um programa \"escondendo\" uma computação complexa.\n",
        "3.   Permite tornar o programa menor pois partes repetidas são eliminadas.\n",
        "\n",
        "\n",
        "**Fluxo de execução:**\n",
        "\n",
        "Sobre o fluxo de execução de um programa com funções:\n",
        "\n",
        "1.   O fluxo de execução de um programa sempre começa no primeiro comando da função principal, a função *main()*.\n",
        "2.   Definições de funções não alteram o fluxo de execução do programa, mas os comandos dentro da função só são executados se a função é chamada.\n",
        "3.   Chamadas de funções são como desvios do fluxo de execução. Em vez de ir para o próximo comando, o fluxo pula para a primeira linha da função chamada. A função chamada executa todos os seus comandos e então volta para a função principal para continuar a sequência de comandos.\n",
        "\n",
        "**Programação estruturada:**\n",
        "\n",
        "1. O problema complexo é decomposto em problemas mais simples.\n",
        "2. Cada problema simples é resolvido por uma função."
      ],
      "metadata": {
        "id": "miUNfan8OOCz"
      }
    },
    {
      "cell_type": "markdown",
      "source": [
        "**Desenvolvimento de programas:**\n",
        "\n",
        "Para trabalhar com programas mais complexos, vamos sugerir a técnica de desenvolvimento incremental. O objetivo da técnica é evitar longas sessões de *depuração* (encontrar e resolver erros), adicionando e testando pequenos trechos de códigos de cada vez.\n",
        "\n",
        "*Exemplo*:\n",
        "\n",
        "Queremos calcular escrever uma função que calcule a distância entre dois pontos no plano.\n",
        "\n",
        "A distância entre dois pontos $(x_1,y_1)$ e $(x_2,y_2)$, no plano é dada por:\n",
        "\n",
        "$$d = \\sqrt{(x_1-x_2)^2+(y_1-y_2)^2}.$$\n",
        "\n",
        "\n",
        "\n",
        "*   Primeiro passo, identificar os dados de entrada (o que a função recebe) e a saída (o que ela deve devolver).\n",
        "*   Escrever o algoritmo em pseudocódigo ou fluxograma.\n",
        "*   Simular o algoritmo \"na mão\".\n",
        "*   Incluir porções do algoritmo, sempre testando o programa, a cada inclusão de trecho de código.\n",
        "\n",
        "*pseudocódigo:*\n",
        "\n",
        "```\n",
        "Recebe x1, y1\n",
        "Recebe x2, y2\n",
        "dx ← x1 - x2\n",
        "dy ← y1 - y2\n",
        "ds ← dx^2 + dy^2\n",
        "d ← sqrt(ds)\n",
        "Escreva d\n",
        "\n",
        "```\n",
        "\n",
        "Abaixo, temos uma sequência de inclusões de trecho de código:\n",
        "\n",
        "1. Esboço de função sintaticamente correta.\n",
        "\n",
        "```\n",
        "def main():\n",
        "   x1 = 2\n",
        "   y1 = 0\n",
        "   x2 = 3\n",
        "   y2 = 1\n",
        "\n",
        "   d = distancia(x1, y1, x2, y2)\n",
        "   print(\"Distancia: \", d)\n",
        "\n",
        "def distancia(x1, y1, x2, y2):\n",
        "   return 0\n",
        "\n",
        "if __name__ == '__main__':\n",
        "    main()\n",
        "```\n",
        "\n",
        "2. Após chamar a função, podemos incluir uma porção do programa que calcula as diferenças $dx$ e $dy$.\n",
        "\n",
        "```\n",
        "def main():\n",
        "   x1 = 2\n",
        "   y1 = 0\n",
        "   x2 = 3\n",
        "   y2 = 1\n",
        "\n",
        "   d = distancia(x1, y1, x2, y2)\n",
        "   print(\"Distancia: \", d)\n",
        "\n",
        "def distancia(x1,y1,x2,y2):\n",
        "   dx = x1 - x2\n",
        "   dy = y1 - y2\n",
        "   return 0\n",
        "\n",
        "if __name__ == '__main__':\n",
        "    main()\n",
        "```\n",
        "\n",
        "3. A seguir calculamos os quadrados.\n",
        "\n",
        "```\n",
        "def main():\n",
        "   x1 = 2\n",
        "   y1 = 0\n",
        "   x2 = 3\n",
        "   y2 = 1\n",
        "\n",
        "   d = distancia(x1, y1, x2, y2)\n",
        "   print(\"Distancia: \", d)\n",
        "\n",
        "def distancia(x1,y1,x2,y2):\n",
        "   dx = x1 - x2\n",
        "   dy = y1 - y2\n",
        "   ds = dx**2 + dy**2\n",
        "   return 0\n",
        "\n",
        "if __name__ == '__main__':\n",
        "    main()\n",
        "```\n",
        "\n",
        "4. Para encerrar, usamos o expoente fracionário $0.5$ para determinarmos a raiz quadrada.\n",
        "\n",
        "```\n",
        "def main():\n",
        "   x1 = 2\n",
        "   y1 = 0\n",
        "   x2 = 3\n",
        "   y2 = 1\n",
        "\n",
        "   d = distancia(x1, y1, x2, y2)\n",
        "   print(\"Distancia: \", d)\n",
        "\n",
        "def distancia(x1,y1,x2,y2):\n",
        "   dx = x1 - x2\n",
        "   dy = y1 - y2\n",
        "   ds = dx**2 + dy**2\n",
        "   d = ds**0.5\n",
        "   return d\n",
        "\n",
        "if __name__ == '__main__':\n",
        "    main()\n",
        "```\n",
        "\n",
        "**Dicas para começar:**\n",
        "\n",
        "\n",
        "\n",
        "1.   Comece com um esqueleto funcional do programa e faça pequenas alterações de cada vez. A qualquer momento, caso ocorra um erro, você sabe exatamente onde ele se encontra.\n",
        "2.   Use variáveis auxiliares temporárias para manter valores intermediários. Dessa formaé mais fácil inspecionar os seus valores.\n",
        "3.   Uma vez que o programa estiver funcionando, você pode consolidar vários comandos em expressões compostas. Mas faça isso, apenas quando a alteração não torne o programa mais difícil de ler.\n",
        "4.  Funções booleanas devolvem valores booleanos que são muito convenientes para esconder testes complicados dentro de funções.\n",
        "\n",
        "\n"
      ],
      "metadata": {
        "id": "bKp3W4UuRX7G"
      }
    },
    {
      "cell_type": "code",
      "source": [
        "import numpy as np\n",
        "import cmath\n",
        "\n",
        "def main():\n",
        "    x = np.sqrt(2)\n",
        "    y = cmath.sqrt(-1)\n",
        "    #print(x, y)\n",
        "    x1 = float(input(\"Digite a coordenada x do ponto 1: \"))\n",
        "    y1 = float(input(\"Digite a coordenada y do ponto 1: \"))\n",
        "    x2 = float(input(\"Digite a coordenada x do ponto 2: \"))\n",
        "    y2 = float(input(\"Digite a coordenada y do ponto 2: \"))\n",
        "\n",
        "    dist = distancia(x1, y1, x2, y2)\n",
        "    print(dist)\n",
        "\n",
        "def distancia(x1, y1, x2, y2):\n",
        "    d = np.sqrt((x2 - x1)*(x2 - x1) + (y1 - y2)*(y1 - y2))\n",
        "    return d\n",
        "\n",
        "main()"
      ],
      "metadata": {
        "id": "VQbqJISRfvGt",
        "outputId": "3a5592cb-4cc0-45f7-ad34-4c9120e6c09a",
        "colab": {
          "base_uri": "https://localhost:8080/"
        }
      },
      "execution_count": 11,
      "outputs": [
        {
          "output_type": "stream",
          "name": "stdout",
          "text": [
            "Digite a coordenada x do ponto 1: 1\n",
            "Digite a coordenada y do ponto 1: 1\n",
            "Digite a coordenada x do ponto 2: 2\n",
            "Digite a coordenada y do ponto 2: 2\n",
            "1.4142135623730951\n"
          ]
        }
      ]
    },
    {
      "cell_type": "markdown",
      "source": [
        "**Exercícios:**\n",
        "\n",
        "1.   Escreva uma função que receba um número inteiro $n>0$ e devolve o fatorial de $n$, ou seja, $n!$.\n",
        "\n",
        "2.   Use a função anterior para calcular o número de combinações possíveis de $m$ elementos em grupos de $n$ elementos, com $n\\le m$, dada pela fórmula de combinação,\n",
        "\n",
        "$$\\displaystyle{\\dfrac{m!}{(m-n)!n!}}$$.\n",
        "\n",
        "3.   Escreva uma função que dado $n$ natural, apresente os $n$ primeiros termos da sequência de Fibonacci.\n",
        "\n",
        "4.   Escreva uma função que calcule a soma:\n",
        "\n",
        "$$H = 1 + \\dfrac{1}{2}+\\dfrac{1}{3}+\\ldots+\\dfrac{1}{n}.$$\n",
        "\n",
        "5. Considere a função $f(x,y) = y+xy-x^2$, com $x$ e $y$ números inteiros nos intervalos $-2\\le x \\le 2$ e $ 0\\le y\\le 4$. Escreva um programa que determine o valor máximo desta função.\n",
        "\n",
        "6. Escreva uma função que dadas três notas de um estudante, devolva a média final do estudante.\n",
        "\n",
        "\n",
        "7. Escreva uma função que converte uma medida de tempo dada em minutos em horas e minutos. Por exemplo, para o valor de entrada, 181 (181 minutos) a função deve devolver 3 horas e 1 minuto.\n",
        "\n",
        "8. Escreva uma função para avaliar uma função e escreva um programa para fazer o gráfico desta função."
      ],
      "metadata": {
        "id": "o_9lhsVVQ2GN"
      }
    },
    {
      "cell_type": "code",
      "source": [
        "# Exercício 1 e 2: Fatorial e combinaçao\n",
        "\n",
        "def main():\n",
        "    m = int(input(\"Digite o valor de m (inteiro): \"))\n",
        "    n = int(input(\"Digite o valor de n (inteiro) com n <= m: \"))\n",
        "    comb = combinacao(m, n)\n",
        "    print(m, n, comb)\n",
        "\n",
        "def fatorial(n):\n",
        "    fat = 1\n",
        "    it = 2\n",
        "    while(it <= n):\n",
        "        fat = fat*it\n",
        "        it = it + 1\n",
        "    return fat\n",
        "\n",
        "def combinacao(m, n):\n",
        "    fn = fatorial(n)\n",
        "    fm = fatorial(m)\n",
        "    fmn = fatorial(m - n)\n",
        "    comb = fm/(fmn*fn)\n",
        "    return comb\n",
        "\n",
        "\n",
        "main()\n",
        "\n"
      ],
      "metadata": {
        "id": "an3A9GYqiQ1u",
        "outputId": "7ddaa9f0-8003-4e23-f4c8-df89b022dbc7",
        "colab": {
          "base_uri": "https://localhost:8080/"
        }
      },
      "execution_count": 14,
      "outputs": [
        {
          "output_type": "stream",
          "name": "stdout",
          "text": [
            "Digite o valor de m (inteiro): 5\n",
            "Digite o valor de n (inteiro) com n <= m: 3\n",
            "5 3 10.0\n"
          ]
        }
      ]
    },
    {
      "cell_type": "markdown",
      "source": [
        "**Referências:**\n",
        "\n",
        "[1] Introdução a programação em *Python*. https://panda.ime.usp.br/cc110/static/cc110/08-funcoes.htm\n",
        "\n",
        "[2] Introdução Ciência da Computação em C. https://www.ime.usp.br/~hitoshi/introducao/15-funcao01.pdf"
      ],
      "metadata": {
        "id": "bdv0pO0iopGH"
      }
    }
  ]
}