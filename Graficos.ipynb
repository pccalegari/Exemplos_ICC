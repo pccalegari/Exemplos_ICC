{
  "nbformat": 4,
  "nbformat_minor": 0,
  "metadata": {
    "colab": {
      "provenance": [],
      "authorship_tag": "ABX9TyPoj/YxYPEOlCzdPuAAHSGW",
      "include_colab_link": true
    },
    "kernelspec": {
      "name": "python3",
      "display_name": "Python 3"
    },
    "language_info": {
      "name": "python"
    }
  },
  "cells": [
    {
      "cell_type": "markdown",
      "metadata": {
        "id": "view-in-github",
        "colab_type": "text"
      },
      "source": [
        "<a href=\"https://colab.research.google.com/github/pccalegari/Exemplos_ICC/blob/main/Graficos.ipynb\" target=\"_parent\"><img src=\"https://colab.research.google.com/assets/colab-badge.svg\" alt=\"Open In Colab\"/></a>"
      ]
    },
    {
      "cell_type": "markdown",
      "source": [
        "**Módulos:**\n",
        "\n",
        "Um módulo é um arquivo contendo definições e comandos em *Python* para serem usados em outros programas escritos em *Python*.\n",
        "\n",
        "*   A biblioteca padrão é uma coleção de módulos que faz parte da instalação padrão do *Python*. Por exemplo, **math**  e **random**.\n",
        "*   O módulo **math** contém funções matemáticas que encontramos em calculadoras científicas e alguma constantes $\\pi$ e $e$:\n",
        "\n",
        "```\n",
        "import math\n",
        "print(math.pi)\n",
        "print(math.e)\n",
        "print(math.sqrt(2))\n",
        "print(math.sin(math.radians(90)))\n",
        "```\n",
        "\n",
        "Usamos o nome do módulo seguido pelo ponto, seguido pelo nome do item do módulo.\n",
        "\n",
        "*  O módulo **random** nos auxilia quando precisamos trabalhar com números aleatórios. Isso pode ocorrer na programação de jogos ou simulações computacionais.\n",
        "\n",
        "```\n",
        "import random\n",
        "prob = random.random()\n",
        "print(prob)\n",
        "lance_dado = random.randrange(1,7)\n",
        "print(lance_dado)\n",
        "```\n",
        "\n",
        "O método **randrange(inicio, fim)** gera um número inteiro entre inicio e fim-1. Nesse caso, entre 1 e 6. As respostas obedecem uma distribuição uniforme, ou seja, possuem a mesma probabilidade de ocorrência.\n",
        "\n",
        "O método **random()** retorna um número real no intervalo $[0,1)$.\n",
        "\n",
        "O módulo **numpy** (Numerical Python) é um módulo fundamental de computação científica em *Python*. Ela necessita de instalação ([numpy.org](https://numpy.org/)) e fornece estruturas para vetores, matrizes e funções matemática eficientes.\n",
        "\n",
        "\n"
      ],
      "metadata": {
        "id": "DyFDPdtk6YMC"
      }
    },
    {
      "cell_type": "code",
      "source": [
        "import random\n",
        "prob = random.random()\n",
        "print(prob)\n",
        "lance_dado = random.randrange(1,7)\n",
        "print(lance_dado)"
      ],
      "metadata": {
        "id": "SnShF6G-3VMG",
        "outputId": "f8efaef8-7f4b-4f64-efd0-af425198182d",
        "colab": {
          "base_uri": "https://localhost:8080/"
        }
      },
      "execution_count": null,
      "outputs": [
        {
          "output_type": "stream",
          "name": "stdout",
          "text": [
            "0.7050968398509614\n",
            "4\n"
          ]
        }
      ]
    },
    {
      "cell_type": "code",
      "source": [
        "import math as mt\n",
        "\n",
        "print(mt.pi)\n",
        "print(mt.e)\n",
        "print(mt.sqrt(2))\n",
        "rad90 = mt.radians(90)\n",
        "print(rad90, mt.pi/2)\n",
        "print(mt.sin(mt.radians(90)))"
      ],
      "metadata": {
        "id": "sST_Z4832qvv",
        "outputId": "626f47ad-e1a2-4104-bfe8-00d77e2ea4cd",
        "colab": {
          "base_uri": "https://localhost:8080/"
        }
      },
      "execution_count": null,
      "outputs": [
        {
          "output_type": "stream",
          "name": "stdout",
          "text": [
            "3.141592653589793\n",
            "2.718281828459045\n",
            "1.4142135623730951\n",
            "1.5707963267948966 1.5707963267948966\n",
            "1.0\n"
          ]
        }
      ]
    },
    {
      "cell_type": "markdown",
      "source": [
        "\n",
        "**Gráficos:**\n",
        "\n",
        "O módulo **matplotlib** é uma biblioteca de visualização científica. Mais detalhes em ([matplotlib](https://matplotlib.org/)).\n",
        "\n",
        "Veja alguns exemplos:"
      ],
      "metadata": {
        "id": "_YXw4AUSIRWx"
      }
    },
    {
      "cell_type": "code",
      "source": [
        "import matplotlib.pyplot as plt\n",
        "import numpy as np\n",
        "\n",
        "def g(x):\n",
        "    return np.sin(np.pi*x)\n",
        "\n",
        "def le_dados(nome):\n",
        "    valores = {}\n",
        "    i = 0\n",
        "    with open(nome, 'r') as arq:\n",
        "        for linha in arq:\n",
        "            valores[i] = linha.split()\n",
        "            i += 1\n",
        "    n = len(valores)\n",
        "    x = np.zeros(n)\n",
        "    y = np.zeros(n)\n",
        "    for key, values in valores.items():\n",
        "        x[key] = values[0]\n",
        "        y[key] = values[1]\n",
        "    return x, y\n",
        "\n",
        "def main():\n",
        "    x1, y1 = le_dados(\"dados_exp.txt\")\n",
        "\n",
        "\n",
        "\n"
      ],
      "metadata": {
        "id": "craFQZAxOCgG"
      },
      "execution_count": null,
      "outputs": []
    },
    {
      "cell_type": "markdown",
      "source": [
        "**Exercício:**\n",
        "\n",
        "\n",
        "\n",
        " Escreva um programa que leia os seguintes dados de um arquivo: nome, matrícula, nota1, nota2, nota3. Referente as informações de estudantes de uma turma. Escreva funções que calcule a média dos estudantes, classifique e contabilize entre: aprovados, reprovados e recuperação e faça gráficos destes dados.\n",
        "\n"
      ],
      "metadata": {
        "id": "MkYvJwHP4ZVj"
      }
    }
  ]
}