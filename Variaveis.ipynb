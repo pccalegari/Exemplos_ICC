{
  "cells": [
    {
      "cell_type": "markdown",
      "metadata": {
        "id": "view-in-github",
        "colab_type": "text"
      },
      "source": [
        "<a href=\"https://colab.research.google.com/github/pccalegari/Exemplos_ICC/blob/main/Variaveis.ipynb\" target=\"_parent\"><img src=\"https://colab.research.google.com/assets/colab-badge.svg\" alt=\"Open In Colab\"/></a>"
      ]
    },
    {
      "cell_type": "markdown",
      "id": "03234191-6744-47ce-9ed1-669af5ea87da",
      "metadata": {
        "tags": [],
        "id": "03234191-6744-47ce-9ed1-669af5ea87da"
      },
      "source": [
        "# Tipos de dados, expressões e variáveis\n",
        "\n",
        " > Um computador manipula a informação presente em sua memória. Estas informações se dividem em:\n",
        "\n",
        " - Instruções: comandos que determinam o funcionamento do computador e como os dados devem ser tratados.\n",
        " - Dados: informações que devem ser manipuladas pelo computador.\n",
        "\n",
        " > Tipos de dados:\n",
        "\n",
        " - Numérico: números inteiros (int), números reais (float), números complexos (complex).\n",
        " - Literal: Caracteres (str).\n",
        " - Lógico: Verdadeiro ou Falso (bool).\n",
        "\n",
        " > Dados diferentes são armazenados de form diferente. É importante definir o tipo de dado para definir a quantidade de memória para armazená-lo.\n",
        "\n",
        " Experimente os comandos abaixo:\n",
        "\n"
      ]
    },
    {
      "cell_type": "code",
      "source": [
        "type(5)\n",
        "type(2.1)\n",
        "type(True)\n",
        "type(2-3j)\n",
        "type('palavra')"
      ],
      "metadata": {
        "id": "c67EJaQEYGkQ"
      },
      "id": "c67EJaQEYGkQ",
      "execution_count": null,
      "outputs": []
    },
    {
      "cell_type": "markdown",
      "id": "f74aaea4-43b6-458b-b9c9-4f926bce8179",
      "metadata": {
        "id": "f74aaea4-43b6-458b-b9c9-4f926bce8179"
      },
      "source": [
        " > Variáveis:\n",
        "    \n",
        " O computador armazena os dados em variáveis para poder manipular estes dados. Uma variável contém basicamente quatro informações:\n",
        "    \n",
        " - Nome: usado durante o algoritmo quando se faz referência a variável. O nome de cada variável é único.\n",
        " - Tipo: tipo de dado que a variável armazena.\n",
        " - Conteúdo (Valor): dado armazenado na variável, compatível com o seu tipo.\n",
        " - Endereço: posição da memória em que a variável é armazenada.\n",
        "    \n",
        "Em algumas linguagens de programação, como C e Fortran, é necessário declarar as variáveis, ou seja, definir o nome e o tipo de cada variável antes de usá-la. Exemplo de declaraçao de variáveis na linguagem C.\n",
        "\n",
        "<code>\n",
        "    int x, y;\n",
        "\n",
        "    float nota;\n",
        "\n",
        "    char nome;\n",
        "<code>\n",
        "    \n",
        " Depois de declarar as variáveis, elas não possuem nenhum conteúdo definido, apenas seu nome, tipo e endereço de memória.\n",
        "    \n",
        " Em Python, uma linguagem fracamente tipada, ao atribuir um valor para a variável, a mesma recebe o conteúdo e o tipo do conteúdo atribuído. Note que o = é o operador de atribuição. O operador de atribuição atribui um valor a uma variável.\n",
        "\n",
        "  Experimente os seguintes comandos:"
      ]
    },
    {
      "cell_type": "code",
      "source": [
        "x = 3\n",
        "type(x)\n",
        "y=1.2\n",
        "type(y)\n",
        "palavra='Exemplo de string.'\n",
        "type(palavra)"
      ],
      "metadata": {
        "id": "ezoAoESoYZT6"
      },
      "id": "ezoAoESoYZT6",
      "execution_count": null,
      "outputs": []
    },
    {
      "cell_type": "markdown",
      "id": "58c8a67b-ea0d-4879-ab80-1500828184d1",
      "metadata": {
        "id": "58c8a67b-ea0d-4879-ab80-1500828184d1"
      },
      "source": [
        " Expressões:\n",
        "    \n",
        "    Expressões são uma combinação de valores (dados, operandos) e operadores.\n",
        "    \n",
        "As expressões aritméticas são expressões matemáticas que envolvem números (inteiros, reais ou complexos) e os operadores de soma, divisão, subtração, multiplicação, exponenciação,...\n",
        "\n",
        "Regras de precedência e associatividade:\n",
        "    \n",
        "   <table style = \"width:70%\">\n",
        "    <tr>\n",
        "    <th> Operador <th>\n",
        "    <th> Descrição <th>\n",
        "    <th> Associatividade <th>\n",
        "    <tr>\n",
        "    <tr>\n",
        "    <td> () <td>\n",
        "    <td> parênteses <td>\n",
        "    <td> esquerda para direita <td>\n",
        "    <tr>\n",
        "    <tr>\n",
        "    <td> ** <td>\n",
        "    <td> potência <td>\n",
        "    <td> direita para esquerda <td>\n",
        "    <tr>\n",
        "    <tr>\n",
        "    <td> +,- <td>\n",
        "    <td> positivo e negativo unário <td>\n",
        "    <td> direita para esquerda <td>\n",
        "    <tr>\n",
        "    <tr>\n",
        "    <td> *,/ <td>\n",
        "    <td> multiplicação, divisão <td>\n",
        "    <td> esquerda para direita <td>\n",
        "    <tr>\n",
        "    <tr>\n",
        "    <td>  //, %  <td>\n",
        "    <td> divisão inteira e resto <td>\n",
        "    <td> esquerda para direita <td>\n",
        "    <tr>\n",
        "    <tr>\n",
        "    <td> +,- <td>\n",
        "    <td> soma e subtração <td>\n",
        "    <td> esquerda para direita <td>\n",
        "    <tr>\n",
        "    <table>\n",
        "    \n",
        "    \n",
        "    Experimente os seguintes comandos:"
      ]
    },
    {
      "cell_type": "code",
      "source": [
        "x = 3\n",
        "y = 5\n",
        "z=3*x+y/2\n",
        "type(x)\n",
        "type(z)\n",
        "x = 1.1\n",
        "type(x)"
      ],
      "metadata": {
        "id": "plLJCy1zYruh"
      },
      "id": "plLJCy1zYruh",
      "execution_count": null,
      "outputs": []
    },
    {
      "cell_type": "markdown",
      "id": "fb8204fd-c9c5-4b6b-b013-6383f9404433",
      "metadata": {
        "tags": [],
        "id": "fb8204fd-c9c5-4b6b-b013-6383f9404433"
      },
      "source": [
        " Expressões Lógicas:\n",
        "    \n",
        "    Tem como resultado um valor lógico (True ou False).\n",
        "    \n",
        "Os operadores relacionais são usados para comparar valores numéricos e resultam em um valor lógico.\n",
        "    \n",
        "    Exemplo: (4-7) >= (4/2) resulta em False.\n",
        "\n",
        "<table style = \"width:70%\">\n",
        "<tr>\n",
        "<th> Operador <th>\n",
        "<th> Descrição <th>\n",
        "<th> Exemplo <th>\n",
        "<th> Resultado <th>\n",
        "<tr>\n",
        "<tr>\n",
        "<td> == <td>\n",
        "<td> Igualdade <td>\n",
        "<td> 1==2 <td>\n",
        "<td> False <td>\n",
        "<tr>\n",
        "<tr>\n",
        "<td> != <td>\n",
        "<td> Diferente <td>\n",
        "<td> 1!=2 <td>\n",
        "<td> True <td>\n",
        "<tr>\n",
        "<tr>\n",
        "<td> > <td>\n",
        "<td> Maior <td>\n",
        "<td> 2>2 <td>\n",
        "<td> False <td>\n",
        "<tr>\n",
        "<tr>\n",
        "<td> >= <td>\n",
        "<td> Maior ou igual <td>\n",
        "<td> 2>=2 <td>\n",
        "<td> True <td>\n",
        "<tr>\n",
        "<tr>\n",
        "<td> <  <td>\n",
        "<td> Menor <td>\n",
        "<td> 2 < 3 <td>\n",
        "<td> True <td>\n",
        "<tr>\n",
        "<tr>\n",
        "<td> <= <td>\n",
        "<td> Menor ou igual <td>\n",
        "<td> 3 <= 2 <td>\n",
        "<td> False <td>\n",
        "<tr>\n",
        "<table>\n",
        "\n",
        "Experimente os seguintes comandos:"
      ]
    },
    {
      "cell_type": "code",
      "source": [
        "a = 1\n",
        "b = 2\n",
        "a == 1\n",
        "a != b\n",
        "b < a"
      ],
      "metadata": {
        "id": "p3MUD1-BY7mb"
      },
      "id": "p3MUD1-BY7mb",
      "execution_count": null,
      "outputs": []
    },
    {
      "cell_type": "markdown",
      "id": "f3419582-79a1-4ffb-a7f8-459af9e2d18a",
      "metadata": {
        "tags": [],
        "id": "f3419582-79a1-4ffb-a7f8-459af9e2d18a"
      },
      "source": [
        "Conectivos Lógicos: tem como operandos expressões lógicas e como um resultados um valor lógico. Ordem de precedência dos operadores lógicos:\n",
        "    \n",
        "<table style = \"width:70%\">\n",
        "<tr>\n",
        "<th> Operador <th>\n",
        "<th> Descrição <th>\n",
        "<tr>\n",
        "<tr>\n",
        "<td> not <td>\n",
        "<td> Negação <td>\n",
        "<tr>\n",
        "<tr>\n",
        "<td> and <td>\n",
        "<td> E <td>\n",
        "<tr>\n",
        "<tr>\n",
        "<td> or <td>\n",
        "<td> Ou <td>\n",
        "<tr>\n",
        "<table>    \n",
        "    \n",
        "Tabela verdade é uma tabela que associa todos os possíveis valores lógicos dos operandos em expressões lógicas.\n",
        "\n",
        "    - O operador not troca o valor lógico da expressão.\n",
        "    \n",
        "<table style = \"width:70%\">\n",
        "<tr>\n",
        "<th> p <th>\n",
        "<th> not p <th>\n",
        "<tr>\n",
        "<tr>\n",
        "<th> True <th>\n",
        "<th> False <th>\n",
        "<tr>\n",
        "<tr>\n",
        "<th> False <th>\n",
        "<th> True <th>\n",
        "<tr>\n",
        "<table>\n",
        "\n",
        "    - O operador and resulta no valor True apenas quando seus dois operandos são True. Caso contrário, resulta em False.\n",
        "    \n",
        "<table style = \"width:70%\">\n",
        "<tr>\n",
        "<th> p <th>\n",
        "<th> q <th>\n",
        "<th> p and q <th>\n",
        "<tr>\n",
        "<tr>\n",
        "<th> False <th>\n",
        "<th> False <th>\n",
        "<th> False <th>\n",
        "<tr>\n",
        "<tr>\n",
        "<th> True <th>\n",
        "<th> False <th>\n",
        "<th> False <th>\n",
        "<tr>\n",
        "<tr>\n",
        "<th> False <th>\n",
        "<th> True <th>\n",
        "<th> False <th>\n",
        "<tr>\n",
        "<tr>\n",
        "<th> True <th>\n",
        "<th> True <th>\n",
        "<th> True <th>\n",
        "<tr>\n",
        "<table>\n",
        "\n",
        "\n",
        "    \n",
        "    - O operador or resulta no valor False apenas quando seus dois operandos são False. Caso contrário, resulta em True.\n",
        "    \n",
        "<table style = \"width:70%\">\n",
        "<tr>\n",
        "<th> p <th>\n",
        "<th> q <th>\n",
        "<th> p or q <th>\n",
        "<tr>\n",
        "<tr>\n",
        "<th> False <th>\n",
        "<th> False <th>\n",
        "<th> False <th>\n",
        "<tr>\n",
        "<tr>\n",
        "<th> True <th>\n",
        "<th> False <th>\n",
        "<th> True <th>\n",
        "<tr>\n",
        "<tr>\n",
        "<th> False <th>\n",
        "<th> True <th>\n",
        "<th> True <th>\n",
        "<tr>\n",
        "<tr>\n",
        "<th> True <th>\n",
        "<th> True <th>\n",
        "<th> True <th>\n",
        "<tr>\n",
        "<table>\n",
        "    \n",
        "Experimente os seguintes comandos:"
      ]
    },
    {
      "cell_type": "code",
      "execution_count": null,
      "id": "45d6d14a-e6e8-4742-932a-d7ae95dd945d",
      "metadata": {
        "tags": [],
        "id": "45d6d14a-e6e8-4742-932a-d7ae95dd945d"
      },
      "outputs": [],
      "source": [
        "p = 1==2\n",
        "q = 1!= 2\n",
        "r = 3>2\n",
        "s = 1>2\n",
        "print(p,q,r,s)\n",
        "print(not q, s or q)"
      ]
    },
    {
      "cell_type": "markdown",
      "id": "c22f17e7-a8b1-43c9-9967-8146b87ba808",
      "metadata": {
        "tags": [],
        "id": "c22f17e7-a8b1-43c9-9967-8146b87ba808"
      },
      "source": [
        "> Impressão na tela:\n",
        "\n",
        "É feita usando a função print(), como argumento da função podemos ter uma mensagem entre \" \" ou uma variável.\n",
        "\n",
        "Experimente:"
      ]
    },
    {
      "cell_type": "code",
      "execution_count": null,
      "id": "b9952fac-43db-40fc-83a7-e1beb3993a1b",
      "metadata": {
        "id": "b9952fac-43db-40fc-83a7-e1beb3993a1b"
      },
      "outputs": [],
      "source": [
        "print('Ola mundo!')\n",
        "x = 2\n",
        "y = 3\n",
        "z = x + y\n",
        "print('O valor de x + y eh: ', z)"
      ]
    },
    {
      "cell_type": "markdown",
      "id": "22b67f6a-c989-4a95-9db7-d727f9fff874",
      "metadata": {
        "tags": [],
        "id": "22b67f6a-c989-4a95-9db7-d727f9fff874"
      },
      "source": [
        "> Leitura pelo teclado:\n",
        "\n",
        "É feita usando a função input(), como argumento pondemos incluir uma mensagem.\n",
        "\n",
        "A função input() devolve uma string (cadeia de caracteres), se quisermos receber um número precisamos fazer uma conversão de tipo.\n",
        "\n",
        "Experimente:"
      ]
    },
    {
      "cell_type": "code",
      "execution_count": null,
      "id": "913f4b36-386d-473f-a45b-5262a4b5f0e9",
      "metadata": {
        "id": "913f4b36-386d-473f-a45b-5262a4b5f0e9"
      },
      "outputs": [],
      "source": [
        "# Para comentários use #\n",
        "# Esse programa recebe dois números reais e devolve a soma deles\n",
        "\n",
        "x = float(input('digite um numero:'))\n",
        "y = float(input('digite outro numero: '))\n",
        "z = x + y\n",
        "print('O valor ',x, '+',y, ' eh: ', z)"
      ]
    },
    {
      "cell_type": "markdown",
      "id": "c1334c47-6c7d-4518-8b6a-28507fa96f2a",
      "metadata": {
        "id": "c1334c47-6c7d-4518-8b6a-28507fa96f2a"
      },
      "source": [
        "Exercícios:\n",
        "\n",
        "<ol>\n",
        "<li> Escreva um programa que receba dois números e mostre na tela a soma destes números.\n",
        "<li> Escreva um programa que receba o peso e a altura de uma pessoa e devolva o IMC (veja exercício 2 do aquecimento).\n",
        "<li> Escreva um programa que receba dois números e mostre na tela o resultado da soma, multiplicação e divisão.\n",
        "<li> Escreva um algoritmo que receba uma temperatura, em Farenheit e a devolva em Celsius (veja exercício 3 do aquecimento).\n",
        "<ol>\n",
        "    "
      ]
    },
    {
      "cell_type": "markdown",
      "source": [
        "#Referências\n",
        "\n",
        "(1) Introdução a Computação em Python. IME/USP, https://panda.ime.usp.br/panda/static/cc110/03-vaiaveis.html\n",
        "\n",
        "(2) Introdução a Ciência de Computação em C.R.S.Hashimoto, C.H.Morimoto e J.A.R.Soares. www.ime.usp.br/~hitoshi/introducao/03-Fundamentos.pdf"
      ],
      "metadata": {
        "id": "-BvJz_ERTmv6"
      },
      "id": "-BvJz_ERTmv6"
    }
  ],
  "metadata": {
    "kernelspec": {
      "display_name": "Python 3 (ipykernel)",
      "language": "python",
      "name": "python3"
    },
    "language_info": {
      "codemirror_mode": {
        "name": "ipython",
        "version": 3
      },
      "file_extension": ".py",
      "mimetype": "text/x-python",
      "name": "python",
      "nbconvert_exporter": "python",
      "pygments_lexer": "ipython3",
      "version": "3.9.7"
    },
    "colab": {
      "provenance": [],
      "include_colab_link": true
    }
  },
  "nbformat": 4,
  "nbformat_minor": 5
}