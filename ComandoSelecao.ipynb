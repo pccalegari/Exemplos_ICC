{
  "cells": [
    {
      "cell_type": "markdown",
      "metadata": {
        "id": "view-in-github",
        "colab_type": "text"
      },
      "source": [
        "<a href=\"https://colab.research.google.com/github/pccalegari/Exemplos_ICC/blob/main/ComandoSelecao.ipynb\" target=\"_parent\"><img src=\"https://colab.research.google.com/assets/colab-badge.svg\" alt=\"Open In Colab\"/></a>"
      ]
    },
    {
      "cell_type": "markdown",
      "id": "1a98c550-60b6-4fa9-afba-4ae3cfe479ae",
      "metadata": {
        "id": "1a98c550-60b6-4fa9-afba-4ae3cfe479ae"
      },
      "source": [
        "# Lembrete:\n",
        "\n",
        "**Construção de algoritmos:**\n",
        "\n",
        "\n",
        "\n",
        "1.   Ler atentamente o enunciado do problema.\n",
        "2.   Definir os dados de entrada e saída.\n",
        "3.   Definir a metodologia de resolução. Esta etapa é responsável pela transformação dos dados de entrada no resultado esperado.\n",
        "4.   Representar o algoritmo. Por exemplo, na forma de pseudo-código ou fluxograma.\n",
        "5.   Testar o algoritmo realizando simulações.\n",
        "\n",
        "\n",
        "\n",
        "\n"
      ]
    },
    {
      "cell_type": "markdown",
      "id": "1857be72-3ac9-4297-b119-b1b94180dea3",
      "metadata": {
        "id": "1857be72-3ac9-4297-b119-b1b94180dea3"
      },
      "source": [
        "# Estruturas de Controle\n",
        "\n",
        "São estruturas que controlam o fluxo do programa. Vamos estudar os comandos de seleção e os comandos de repetição.\n",
        "\n",
        "**Comando de Seleção:**\n",
        "\n",
        "O comando de seleção simples ou composto permite que o seu programa tome decisões sobre o fluxo de processamento. Isso quer dizer, que dependendo do estado ou condição, o comando permite selecionar qual procedimento deve ser executado.\n",
        "\n",
        "A condição é uma expressão lógica que tem como resultado um valor lógico  (verdadeiro ou falso).\n",
        "\n",
        "<b> Comando de seleção simples: </b> Se (*if*)\n",
        "\n",
        "O bloco de instruções dentro do comando de seleção é executado apenas quando a condição for verdadeira. Depois o algoritmo continua a execução dos comandos fora do bloco. Se o valor da expressão lógica, dada pela condição, for falso, os comando no bloco dentro do comando de seleção não são executados e o algoritmo continua executando os comando após o bloco.\n",
        "\n",
        "Aqui apresentamos o comando de seleção *if* em pseudocódigo.\n",
        "\n",
        "```\n",
        "se (condição) então\n",
        "   comando 1\n",
        "   comando 2\n",
        "   .\n",
        "   .\n",
        "   .\n",
        "   comando n\n",
        "fim se\n",
        "```\n",
        "\n",
        "1. **Exemplo:** Escreva um algoritmo que receba um número $a$ e devolva o valor absoluto de $a$, ou seja, $|a|$.\n",
        "\n",
        "Solução:\n",
        "\n",
        "A definição de valor absoluto é\n",
        "\n",
        "$$ |a| = \\left\\{ \\begin{array}{cl}\n",
        "a & \\mbox{, se } a \\ge 0,\\\\\n",
        "-a & \\mbox{, se } a < 0.\n",
        "\\end{array}\\right .$$\n",
        "     \n",
        "```\n",
        "Receba a\n",
        "se (a < 0) então\n",
        "   a = -a\n",
        "fim se\n",
        "Escreva a\n",
        "```\n",
        "\n",
        "<b> Comando de seleção composto: </b> Se - Caso Contrário (*if-else*)\n",
        "\n",
        "O bloco de instruções dentro do comando de seleção (**se**) é executado apenas quando a condição for verdadeira. Quando a condição for falsa, as instruções dentro do bloco (**caso contrário**) são executadas. Ou seja, nesse caso temos duas opções de fluxo do programa.\n",
        "\n",
        "```\n",
        "se (condição) então\n",
        "    comando 1\n",
        "    comando 2\n",
        "    .\n",
        "    .\n",
        "    .\n",
        "    comando n\n",
        "caso contrário\n",
        "    outro comando 1\n",
        "    outro comando 2\n",
        "    .\n",
        "    .\n",
        "    .\n",
        "    outro comando n\n",
        "fim se\n",
        "```\n",
        "\n",
        "2. **Exemplo:** Escreva um algoritmo que receba dois números $a$ e $b$ devolva o valor da divisão entre eles, ou seja, $a/b$.\n",
        "\n",
        "Solução:\n",
        "\n",
        "Queremos calcular $a/b$. O que precisamos verificar?\n",
        "\n",
        "```\n",
        "Receba a e b\n",
        "se (b == 0) então\n",
        "   Escreva \"Denominador é nulo\"\n",
        "caso contrário\n",
        "   c = a/b\n",
        "   Escreva c\n",
        "fim se\n",
        "\n",
        "```\n",
        "\n",
        "Veja os algoritmos dos exemplos anteriores escritos em *Python*.\n",
        "\n",
        "Note que:\n",
        "\n",
        "(a) Após o comando de seleção *if* ou *else* vem : (dois pontos).\n",
        "(b) As intruções dentro de um bloco do comando de seleção devem ter a mesma identação.\n",
        "\n",
        "A seguir, a instrução $a=-a$ está dentro do bloco e o print() está fora.\n",
        "    \n",
        "1. Valor absoluto (Módulo):\n",
        "```\n",
        "# O programa recebe um número real e devolve o seu valor absoluto.\n",
        "a = float(input(\"Digite um número: \"))\n",
        "if (a < 0):\n",
        "        a = -a\n",
        "print(\"|a| = \", a)\n",
        "```\n",
        "Experimente executar o programa, com $a = 1$, $a = -2$ e $a=0$.\n"
      ]
    },
    {
      "cell_type": "code",
      "source": [],
      "metadata": {
        "id": "ZM5DWEJ69bst"
      },
      "id": "ZM5DWEJ69bst",
      "execution_count": null,
      "outputs": []
    },
    {
      "cell_type": "markdown",
      "source": [
        "2. Operação de divisão:\n",
        "\n",
        "\n",
        "\n",
        "```\n",
        "# O programa recebe dois números e devolve a/b\n",
        "a = int(input(\"Digite o numerador: \"))\n",
        "b = int(input(\"Digite o denominador: \"))\n",
        "if (b == 0):\n",
        "    print(\"Denominador é nulo!\")\n",
        "else:\n",
        "    c = a/b\n",
        "    print(\"a/b = \", c)\n",
        "```\n",
        "\n",
        "Experimente executar o programa, com $a=1$ e $b=2$  e $a = 1$ e $b=0$.\n"
      ],
      "metadata": {
        "id": "UiQjx0fB9cmp"
      },
      "id": "UiQjx0fB9cmp"
    },
    {
      "cell_type": "code",
      "source": [
        "# O programa recebe dois números e devolve a/b\n",
        "a = int(input(\"Digite o numerador: \"))\n",
        "b = int(input(\"Digite o denominador: \"))\n",
        "if (b == 0):\n",
        "    print(\"Denominador é nulo!\")\n",
        "else:\n",
        "    c = a/b\n",
        "    print(\"a/b = \", c)"
      ],
      "metadata": {
        "id": "yNRWcuEpj_r0",
        "outputId": "93421b15-f702-470f-8a5e-29cecc11b29b",
        "colab": {
          "base_uri": "https://localhost:8080/"
        }
      },
      "id": "yNRWcuEpj_r0",
      "execution_count": null,
      "outputs": [
        {
          "output_type": "stream",
          "name": "stdout",
          "text": [
            "Digite o numerador: 3\n",
            "Digite o denominador: 0\n",
            "Denominador é nulo!\n"
          ]
        }
      ]
    },
    {
      "cell_type": "markdown",
      "id": "9f6878b1-9b98-483d-ac2a-3d33e926aa52",
      "metadata": {
        "id": "9f6878b1-9b98-483d-ac2a-3d33e926aa52"
      },
      "source": [
        "3. **Exemplo:** Escreva um algoritmo que receba dois números e apresente o maior dentre estes números.\n",
        "\n",
        "Solução:\n",
        "\n",
        "Vamos usar uma variável para armazenar o maior número e verficar qual deles é maior, para armazenar esse valor na variável maior.\n",
        "\n",
        "```\n",
        "Receba a e b\n",
        "se (a > b) então\n",
        "   maior = a\n",
        "caso contrário\n",
        "   maior = b\n",
        "fim se\n",
        "Escreva maior\n",
        "```\n",
        "\n",
        "**Exercício:** Implemente este algoritmo em *Python*.\n",
        "\n",
        "\n",
        "\n",
        "\n",
        "\n",
        "\n",
        "\n"
      ]
    },
    {
      "cell_type": "code",
      "source": [
        "a  = int(input(\"Digite um número: \"))\n",
        "b = int(input(\"Digite um número b: \"))\n",
        "if( a > b ):\n",
        "    maior = a\n",
        "else:\n",
        "    maior = b\n",
        "print(maior)"
      ],
      "metadata": {
        "id": "ET7dXyidA-iw",
        "outputId": "87585593-2753-4318-ba42-5aebfe8ea161",
        "colab": {
          "base_uri": "https://localhost:8080/"
        }
      },
      "id": "ET7dXyidA-iw",
      "execution_count": null,
      "outputs": [
        {
          "output_type": "stream",
          "name": "stdout",
          "text": [
            "Digite um número: -3\n",
            "Digite um número b: -4\n",
            "-3\n"
          ]
        }
      ]
    },
    {
      "cell_type": "markdown",
      "source": [
        "A seguir temos um exemplo, no qual a condição é uma expressão lógica composta, com o uso do operador lógico **e**.\n",
        "\n",
        "4. **Exemplo:** Escreva um algoritmo que verifique se uma pessoa pode doar sangue. Para ser um doador de sangue é preciso ter mais de 18 anos e pesa pelo menos 50 kg.\n",
        "\n",
        "Solução:\n",
        "\n",
        "Precisamos verificar duas condições: idade $>= 18$ anos e peso $>= 50$ kg. Para isso vamos usar o operador **e**.\n",
        "\n",
        "```\n",
        "Receba idade e peso\n",
        "Se (peso >= 50 e idade >= 18) então\n",
        "   Escreva \"Possível doador\"\n",
        "Caso contrário\n",
        "   Escreva \"Não pode doar sangue\"\n",
        "   Escreva idade, peso\n",
        "fim se\n",
        "```\n",
        "\n",
        "Uma solução alternativa é verificar quando uma das condições de impedimento é verdadeira e então apresentar a mensagem de impedimento. Nesse caso, usaremos o operador lógico **ou**.\n",
        "\n",
        "```\n",
        "Receba idade e peso\n",
        "Se (peso < 50 ou idade < 18) então\n",
        "   Escreva \"Não pode doar sangue\"\n",
        "   Escreva idade, peso\n",
        "caso contrário\n",
        "   Escreva \"Possível doador\"\n",
        "fim se\n",
        "```\n",
        "\n",
        "Os algoritmos escritos em *Python* são respectivamente:\n",
        "\n"
      ],
      "metadata": {
        "id": "jzbZszR9-xS_"
      },
      "id": "jzbZszR9-xS_"
    },
    {
      "cell_type": "code",
      "source": [
        "idade = int(input(\"Digite a idade: \"))\n",
        "peso = float(input(\"Digite o peso: \"))\n",
        "if (peso >= 50 and idade >= 18):\n",
        "    print(\"Possível doador\")\n",
        "else:\n",
        "    print(\"Não pode doar sangue, idade = \", idade, \"e peso = \", peso)"
      ],
      "metadata": {
        "id": "EBq31MIJEIId"
      },
      "id": "EBq31MIJEIId",
      "execution_count": null,
      "outputs": []
    },
    {
      "cell_type": "code",
      "source": [
        "idade = int(input(\"Digite a idade: \"))\n",
        "peso = float(input(\"Digite o peso: \"))\n",
        "if (peso < 50 or idade < 18):\n",
        "    print(\"Não pode doar sangue, idade = \", idade, \"e peso = \", peso)\n",
        "else:\n",
        "    print(\"Possível doador\")\n"
      ],
      "metadata": {
        "id": "zEbIfc3ZEv0t"
      },
      "id": "zEbIfc3ZEv0t",
      "execution_count": null,
      "outputs": []
    },
    {
      "cell_type": "markdown",
      "source": [
        "5.  **Exemplo:** Escreva um algoritmo que receba a nota de três avaliações, calcule a média aritmética e escreva se um estudante foi aprovado ou não. Use como critério de aprovação a média ser maior ou igual a seis.\n",
        "\n",
        "Solução:\n",
        "\n",
        "```\n",
        "Receba N1, N2 e N3\n",
        "M = (N1 + N2 + N3)/3\n",
        "se (M >= 6) então\n",
        "   Escreva \"Estudante aprovado\"\n",
        "caso contrário\n",
        "   Escreva \"Estudante reprovado\"\n",
        "fim se\n",
        "\n",
        "```\n",
        "\n",
        "**Exercício:** Implemente este algoritmo e faça algumas simulações.\n",
        "\n",
        "\n",
        "Mas e quando temos mais que duas opções de fluxo de execução? Por exemplo, se quisermos incluir o caso de recuperação no exemplo anterior.\n",
        "\n",
        "\n",
        "Neste caso aninhamos os comandos de seleção. Suponha que dada a nota de um estudante, ao final do semestre, queremos classificá-lo em uma das seguintes categorias: Aprovado, Recuperação, Reprovado. Usando as Regras da UFSC, levando em consideração apenas as notas, teríamos o seguinte:\n",
        "\n",
        "```\n",
        "se (nota >= 6) então\n",
        "   Escreva \"Aprovado\"\n",
        "caso contrário\n",
        "   se (nota >= 3) então\n",
        "      Escreva \"Recuperação\"\n",
        "   caso contrário\n",
        "      Escreva \"Reprovado\"\n",
        "   fim se\n",
        "fim se\n",
        "```\n",
        "\n",
        "Para simplificar ainda mais o código de programas com *if-else* aninhados,  *Python* oferece o comando *if-elif-else*.\n",
        "\n",
        "Neste caso, o exemplo anterior, na forma simplificada escrito em *Python* é:"
      ],
      "metadata": {
        "id": "Fv7bg8QDDq28"
      },
      "id": "Fv7bg8QDDq28"
    },
    {
      "cell_type": "code",
      "source": [
        "nota = float(input(\"Digite a nota: \"))\n",
        "\n",
        "if(nota >= 6):\n",
        "   print(\"Aprovado\")\n",
        "elif(nota >= 3):\n",
        "   print(\"Recuperação\")\n",
        "else:\n",
        "   print(\"Reprovado\")"
      ],
      "metadata": {
        "id": "ekq0x9oJ_ODl"
      },
      "id": "ekq0x9oJ_ODl",
      "execution_count": null,
      "outputs": []
    },
    {
      "cell_type": "markdown",
      "source": [
        "Dessa forma, o comando *elif* é apenas uma contração do comando *else if* (caso contrário se) que torna mais claro o tratamento das várias alternativas, encadeando as condições.\n",
        "\n",
        "Veja um exemplo que trata de associar conceitos a um intervalo de notas."
      ],
      "metadata": {
        "id": "yqWQaDs5_qG3"
      },
      "id": "yqWQaDs5_qG3"
    },
    {
      "cell_type": "code",
      "source": [
        "nota = float(input(\"Digite a nota: \"))\n",
        "\n",
        "if(nota >= 9):\n",
        "   print(\"Conceito A\")\n",
        "elif(nota >= 7.5):\n",
        "   print(\"Conceito B\")\n",
        "elif(nota >= 6):\n",
        "   print(\"Conceito C\")\n",
        "else:\n",
        "   print(\"Conceito I\")"
      ],
      "metadata": {
        "id": "VdSXq2XiA47J"
      },
      "id": "VdSXq2XiA47J",
      "execution_count": null,
      "outputs": []
    },
    {
      "cell_type": "markdown",
      "source": [
        "**Exercícios:**\n",
        "\n",
        "\n",
        "\n",
        "1.   Escreva um algoritmo que receba dois números e os apresente em ordem crescente. Utilize comandos de seleção.   \n",
        "\n",
        "2.   Escreva um algoritmo que receba três notas de um estudante, calcule a média aritmética e verifique qual a situação do estudante \"aprovado\", \"recuperação\" ou \"reprovado\". Utilize as regras da UFSC.\n",
        "\n",
        "3.   Escreva um algoritmo, similar ao exercício anterior, mas que também receba a frequência do estudante e inclua esta condição nos critérios de aprovação.\n",
        "\n",
        "4.   Escreva um algoritmo que receba três números inteiros e positivos e verifique se estas medidas formam os lados de um triângulo.\n",
        "\n",
        "5.   Escreva um algoritmo que receba um caracter \"F\" ou \"C\", que indica se o número digitado a seguir corresponde a temperatura em graus Fahrenheit ou Celsius. Em seguida, o algoritmo deve transformar a temperatura recebida para o valor correpondente na outra unidade de medida. Obs. $C=(5/9)(F-32)$.\n",
        "\n",
        "6.   Escreva um algoritmo que receba um par de números reais, $x$ e $y$, que correspondem as coordenadas de um ponto no plano. Verifique se o ponto $(x,y)$  pertence à região delimitada por $x\\ge 0$, $y\\ge 0$ e $x^2+y^2\\le 1$.\n",
        "\n",
        "7.   Escreva um algoritmo que, dados os números reais $a$, $b$ e $c$, determine\n",
        "as raízes da equação $ax^2+bx+c = 0$ e apresente um dos seguintes resultados:\n",
        "\n",
        "(a) Raiz dupla, valor da raiz.\n",
        "\n",
        "(b) Raízes reais distintas: valor da raiz 1 e valor da raiz 2.\n",
        "\n",
        "(c) Raízez complexas: valores"
      ],
      "metadata": {
        "id": "p3iy816YIxhv"
      },
      "id": "p3iy816YIxhv"
    },
    {
      "cell_type": "code",
      "source": [
        "#Exercício 2: Critério de aprovação com notas\n",
        "N1 = float(input(\"Digite a primeira nota: \"))\n",
        "N2 = float(input(\"Digite a segunda nota: \"))\n",
        "N3 = float(input(\"Digite a terceira nota: \"))\n",
        "nota = (N1 + N2 + N3)/3\n",
        "\n",
        "if(nota >= 6):\n",
        "   print(\"Aprovado: \", nota)\n",
        "elif(nota >= 3):\n",
        "   print(\"Recuperação: \", nota)\n",
        "else:\n",
        "   print(\"Reprovado: \", nota)"
      ],
      "metadata": {
        "id": "zNC3WpZzmIwS",
        "outputId": "a1ab3527-8cf0-43cb-f62b-ef0b8d043959",
        "colab": {
          "base_uri": "https://localhost:8080/"
        }
      },
      "id": "zNC3WpZzmIwS",
      "execution_count": null,
      "outputs": [
        {
          "output_type": "stream",
          "name": "stdout",
          "text": [
            "Digite a primeira nota: 6.5\n",
            "Digite a segunda nota: 9\n",
            "Digite a terceira nota: 2.5\n",
            "Aprovado:  6.0\n"
          ]
        }
      ]
    },
    {
      "cell_type": "code",
      "source": [
        "#Exercício 3: Critério de aprovação com notas e frequencia\n",
        "N1 = float(input(\"Digite a primeira nota: \"))\n",
        "N2 = float(input(\"Digite a segunda nota: \"))\n",
        "N3 = float(input(\"Digite a terceira nota: \"))\n",
        "NF = int(input(\"Digite o número faltas: \"))\n",
        "NT = int(input(\"Digite o número total de aulas: \"))\n",
        "nota = (N1 + N2 + N3)/3\n",
        "FS = (NT - NF)*100/NT\n",
        "if(nota >= 6 and FS >= 75):\n",
        "   print(\"Aprovado: \", nota, FS)\n",
        "elif(nota >= 3 and FS >= 75):\n",
        "   print(\"Recuperação: \", nota, FS)\n",
        "else:\n",
        "   print(\"Reprovado: \", nota, FS)"
      ],
      "metadata": {
        "id": "28cfxNbAnz_E",
        "outputId": "1eb3f7f3-ee05-4efb-ec9f-de6cbe14e5b3",
        "colab": {
          "base_uri": "https://localhost:8080/"
        }
      },
      "id": "28cfxNbAnz_E",
      "execution_count": null,
      "outputs": [
        {
          "output_type": "stream",
          "name": "stdout",
          "text": [
            "Digite a primeira nota: 9\n",
            "Digite a segunda nota: 6\n",
            "Digite a terceira nota: 2\n",
            "Digite o número faltas: 14\n",
            "Digite o número total de aulas: 54\n",
            "Reprovado:  5.666666666666667 74.07407407407408\n"
          ]
        }
      ]
    }
  ],
  "metadata": {
    "kernelspec": {
      "display_name": "Python 3 (ipykernel)",
      "language": "python",
      "name": "python3"
    },
    "language_info": {
      "codemirror_mode": {
        "name": "ipython",
        "version": 3
      },
      "file_extension": ".py",
      "mimetype": "text/x-python",
      "name": "python",
      "nbconvert_exporter": "python",
      "pygments_lexer": "ipython3",
      "version": "3.10.12"
    },
    "colab": {
      "provenance": [],
      "include_colab_link": true
    }
  },
  "nbformat": 4,
  "nbformat_minor": 5
}