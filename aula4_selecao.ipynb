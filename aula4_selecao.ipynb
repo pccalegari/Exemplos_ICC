{
  "cells": [
    {
      "cell_type": "markdown",
      "metadata": {
        "id": "view-in-github",
        "colab_type": "text"
      },
      "source": [
        "<a href=\"https://colab.research.google.com/github/pccalegari/Exemplos_ICC/blob/main/aula4_selecao.ipynb\" target=\"_parent\"><img src=\"https://colab.research.google.com/assets/colab-badge.svg\" alt=\"Open In Colab\"/></a>"
      ]
    },
    {
      "cell_type": "markdown",
      "id": "1a98c550-60b6-4fa9-afba-4ae3cfe479ae",
      "metadata": {
        "id": "1a98c550-60b6-4fa9-afba-4ae3cfe479ae"
      },
      "source": [
        "# Lembrete: Construção de algoritmos\n",
        "\n",
        "(1) Ler atentamente o enunciado do problema.\n",
        "\n",
        "(2) Definir os dados de entrada e saída.\n",
        "\n",
        "(3) Definir a metodologia de resolução. Esta etapa é responsável pela transformação dos dados de entrada no resultado esperado.\n",
        "\n",
        "(4) Representar o algoritmo. Por exemplo, na forma de pseudo-código ou fluxograma.\n",
        "\n",
        "(5) Testar o algoritmo realizando simulações.\n"
      ]
    },
    {
      "cell_type": "markdown",
      "id": "1857be72-3ac9-4297-b119-b1b94180dea3",
      "metadata": {
        "id": "1857be72-3ac9-4297-b119-b1b94180dea3"
      },
      "source": [
        "# Estruturas de Controle\n",
        "\n",
        "Comando de Seleção:\n",
        "\n",
        "O comando de seleção simples ou composto permite que o seu programa tome decisões sobre o fluxo de processamento. Isso quer dizer, que dependendo do estado ou condição, o comando permite selecionar qual procedimento deve ser executado.\n",
        "\n",
        "A condição é uma expressão lógica que tem como resultado um valor verdadeiro ou falso.\n",
        "\n",
        "<b> Comando de seleção simples: </b> *if*\n",
        "\n",
        "Os comandos dentro do comando de seleção serão executados apenas quando a condição for verdadeira.\n",
        "\n",
        "```\n",
        "se (condição) então\n",
        "   comando1\n",
        "   comando2\n",
        "fim se\n",
        "```\n",
        "\n",
        "<b> Comando de seleção composto: </b> *if-else*\n",
        "\n",
        "Os comandos dentro do comando de seleção serão executados apenas quando a condição for verdadeira e quando a condição for falsa, outros comandos serão executados. Ou seja, nesse caso temos duas opções de fluxo do programa.\n",
        "\n",
        "```\n",
        "se (condição) então\n",
        "    comando1\n",
        "    comando2\n",
        "caso contrário\n",
        "    outro comando1\n",
        "    outro comando2\n",
        "fim se\n",
        "```\n",
        "\n",
        "Veja nos exemplos abaixo a sintaxe destes comandos em *Python*.\n",
        "    \n",
        "*Exemplos*:\n",
        "\n",
        "<b> (1) Valor absoluto (Módulo): </b>\n",
        "\n",
        "O primeiro programa recebe um número real e devolve o seu valor absoluto. Para isso usa um comando de seleção simples.\n",
        "\n",
        "<b> (2) Operação de divisão: </b>\n",
        "\n",
        "Para realizar esta operação precisamo verificar se o denominador é diferente de zero. Para isso usa um comando de seleção composto.\n",
        "O segundo programa recebe dois números inteiros a e b e devolve o valor a/b.\n"
      ]
    },
    {
      "cell_type": "code",
      "execution_count": null,
      "id": "9834b1e6-0f19-4c32-bb75-5058ce67d30e",
      "metadata": {
        "id": "9834b1e6-0f19-4c32-bb75-5058ce67d30e"
      },
      "outputs": [],
      "source": [
        "a = float(input('Digite um número: '))\n",
        "\n",
        "if(a < 0):\n",
        "    a = (-1)*a\n",
        "print('|a| = ', a)"
      ]
    },
    {
      "cell_type": "code",
      "execution_count": null,
      "id": "271d42d6-6e66-4c3b-9c7a-a9c00f569ef5",
      "metadata": {
        "id": "271d42d6-6e66-4c3b-9c7a-a9c00f569ef5"
      },
      "outputs": [],
      "source": [
        "a = int(input('Digite um número inteiro: '))\n",
        "b = int(input('Digite o segundo número inteiro: '))\n",
        "\n",
        "if(b != 0):\n",
        "    x = a/b\n",
        "    print('a/b = ', x)\n",
        "else:\n",
        "    print('Denominador igual a zero!')\n",
        "\n"
      ]
    },
    {
      "cell_type": "markdown",
      "id": "9f6878b1-9b98-483d-ac2a-3d33e926aa52",
      "metadata": {
        "id": "9f6878b1-9b98-483d-ac2a-3d33e926aa52"
      },
      "source": [
        "Mas e quando temos mais que duas opções?\n",
        "\n",
        "Neste caso aninhamos os comandos de seleção. Suponha que dada a nota de um estudante, ao final do semestre, queremos classificá-lo em uma das seguintes categorias: Aprovado, Recuperação, Reprovado. Usando as Regras da UFSC, levando em consideração apenas as notas, teríamos o seguinte:\n",
        "\n",
        "```\n",
        "se (nota >= 6) então\n",
        "   Mostre \"Aprovado\"\n",
        "caso contrário\n",
        "   se (nota >= 3) então\n",
        "      Mostre \"Recuperação\"\n",
        "   caso contrário\n",
        "      Mostre \"Reprovado\"\n",
        "   fim se\n",
        "fim se\n",
        "```\n",
        "\n",
        "\n",
        "\n"
      ]
    },
    {
      "cell_type": "code",
      "source": [
        "nota = float(input(\"Digite a nota: \"))\n",
        "\n",
        "if(nota >= 6):\n",
        "   print(\"Aprovado\")\n",
        "else:\n",
        "   if(nota >= 3):\n",
        "      print(\"Recuperação\")\n",
        "   else:\n",
        "      print(\"Reprovado\")"
      ],
      "metadata": {
        "id": "BhFGTBE6-JCE"
      },
      "id": "BhFGTBE6-JCE",
      "execution_count": null,
      "outputs": []
    },
    {
      "cell_type": "markdown",
      "source": [
        "Para simplificar ainda mais o código de programas com *if-else* aninhados,  *Python* oferece o comando *if-elif-else*. Neste caso, o exemplo anterior, na forma simplificada é:"
      ],
      "metadata": {
        "id": "jzbZszR9-xS_"
      },
      "id": "jzbZszR9-xS_"
    },
    {
      "cell_type": "code",
      "source": [
        "nota = float(input(\"Digite a nota: \"))\n",
        "\n",
        "if(nota >= 6):\n",
        "   print(\"Aprovado\")\n",
        "elif(nota >= 3):\n",
        "   print(\"Recuperação\")\n",
        "else:\n",
        "   print(\"Reprovado\")"
      ],
      "metadata": {
        "id": "ekq0x9oJ_ODl"
      },
      "id": "ekq0x9oJ_ODl",
      "execution_count": null,
      "outputs": []
    },
    {
      "cell_type": "markdown",
      "source": [
        "Dessa forma, o comando *elif* é apenas uma contração do comando *else if* que torna mais claro o tratamento das várias alternativas, encadeando as condições. Veja um exemplo que trata de associar conceitos a um intervalo de notas."
      ],
      "metadata": {
        "id": "yqWQaDs5_qG3"
      },
      "id": "yqWQaDs5_qG3"
    },
    {
      "cell_type": "code",
      "source": [
        "nota = float(input(\"Digite a nota: \"))\n",
        "\n",
        "if(nota >= 9):\n",
        "   print(\"Conceito A\")\n",
        "elif(nota >= 7.5):\n",
        "   print(\"Conceito B\")\n",
        "elif(nota >= 6):\n",
        "   print(\"Conceito C\")\n",
        "else:\n",
        "   print(\"Conceito I\")"
      ],
      "metadata": {
        "id": "VdSXq2XiA47J"
      },
      "id": "VdSXq2XiA47J",
      "execution_count": null,
      "outputs": []
    }
  ],
  "metadata": {
    "kernelspec": {
      "display_name": "Python 3 (ipykernel)",
      "language": "python",
      "name": "python3"
    },
    "language_info": {
      "codemirror_mode": {
        "name": "ipython",
        "version": 3
      },
      "file_extension": ".py",
      "mimetype": "text/x-python",
      "name": "python",
      "nbconvert_exporter": "python",
      "pygments_lexer": "ipython3",
      "version": "3.10.12"
    },
    "colab": {
      "provenance": [],
      "include_colab_link": true
    }
  },
  "nbformat": 4,
  "nbformat_minor": 5
}