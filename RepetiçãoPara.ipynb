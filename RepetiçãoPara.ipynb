{
  "nbformat": 4,
  "nbformat_minor": 0,
  "metadata": {
    "colab": {
      "provenance": [],
      "authorship_tag": "ABX9TyMumSQqbzvDDI2VH+GRD9aG",
      "include_colab_link": true
    },
    "kernelspec": {
      "name": "python3",
      "display_name": "Python 3"
    },
    "language_info": {
      "name": "python"
    }
  },
  "cells": [
    {
      "cell_type": "markdown",
      "metadata": {
        "id": "view-in-github",
        "colab_type": "text"
      },
      "source": [
        "<a href=\"https://colab.research.google.com/github/pccalegari/Exemplos_ICC/blob/main/Repeti%C3%A7%C3%A3oPara.ipynb\" target=\"_parent\"><img src=\"https://colab.research.google.com/assets/colab-badge.svg\" alt=\"Open In Colab\"/></a>"
      ]
    },
    {
      "cell_type": "markdown",
      "source": [
        "# Estruturas de Controle\n",
        "\n",
        "**Comandos de Repetição: Para**\n",
        "\n",
        "O comando de repetição **para** (*for*) permite repetir instruções por determinado número de vezes. A cada repetição temos uma **iteração**.\n",
        "\n",
        "**Sintaxe:**\n",
        "\n",
        "pseudocódigo:\n",
        "\n",
        "```\n",
        "para i = 1 até n faça\n",
        "  <comando 1>\n",
        "  <comando 2>\n",
        "  .\n",
        "  .\n",
        "  .\n",
        "  <comando n>\n",
        "fim para\n",
        "\n",
        " ```\n",
        "*Python:*\n",
        "\n",
        "```\n",
        "for i in range(1:n+1):\n",
        "   <comando 1>\n",
        "   <comando 2>\n",
        "   .\n",
        "   .\n",
        "   .\n",
        "   <comando n>\n",
        "\n",
        "<comando fora da repetição>\n",
        "```\n",
        "\n",
        "**Observações:**\n",
        "\n",
        "\n",
        "\n",
        "1.   Nesse exemplo **i** é a **variável do laço de repetição**.\n",
        "2.   No **corpo da repetição** ficam as instruções a serem executadas a cada iteração. Neste caso, os comandos: ```<comando 1>```, ```<comando 2>```, ..., ```<comando n>```.\n",
        "3.   Quando o resultado é falso o processo iterativo termina, ou seja, a repetição chaga ao fim e a primeira instrução fora do comando de repetição é executada e o programa segue o seu fluxo.\n",
        "4.   **Não esqueça de simular os seus algoritmos**.\n",
        "\n",
        "**Exemplos:**\n",
        "\n",
        "\n",
        "\n",
        "1. Dado um número natural $n$. Escreva os $n$ primeiros números naturais.\n",
        "\n",
        "*Solução:*\n",
        "\n",
        "Entrada: um número inteiro maior que zero.\n",
        "\n",
        "Saida: Impressão dos $n$ primeiros números naturais.\n",
        "\n",
        "pseudocódigo:\n",
        "\n",
        "```\n",
        "leia n\n",
        "x ⟵ 1\n",
        "para x = 1 até x = n, faça\n",
        "   escreva x\n",
        "fim para\n",
        "```\n",
        "\n",
        "2.  Dado um número natural $n$. Determine a soma dos n primeiros números naturais.\n",
        "\n",
        "*Solução:*\n",
        "\n",
        "Entrada: um número inteiro maior que zero.\n",
        "\n",
        "Saída: A soma dos n primeiros números naturais.\n",
        "\n",
        "pseudocódigo:\n",
        "\n",
        "```\n",
        "leia n\n",
        "soma ← 0\n",
        "para i=1 até i=n, faça\n",
        "   soma = soma + i\n",
        "fim para\n",
        "escreva soma\n",
        "```\n",
        "\n",
        "3. Dados dois números inteiros $n$ e $k$, com $k \\ge 0$, determine $n^k$.\n",
        "\n",
        "*Solução:*\n",
        "\n",
        "Entrada: Dois números inteiros $n$ e $k\\ge 0$.\n",
        "\n",
        "Saída: $n^k$, ou seja, $n\\cdot n\\cdots n$, $k$ vezes.\n",
        "\n",
        "pseudocódigo:\n",
        "\n",
        "```\n",
        "leia n, k\n",
        "pot ⟵ 1\n",
        "para it=1 até it=k, faça\n",
        "   pot ⟵ pot*n\n",
        "fim para\n",
        "escreva pot\n",
        "```\n",
        "\n",
        "Em *Python* podemos usar o comando *for* em conjunto com a função *range*.\n",
        "\n",
        "A função *range* recebe três parâmetros: *início*, *fim* e *passo*, que definem a sequência de números a ser criada.\n",
        "\n",
        "```\n",
        "inicio = 2\n",
        "fim = 10\n",
        "passo = 3\n",
        "for i in range(inicio, fim, passo):\n",
        "   print(i)\n",
        "print('Fim!')\n",
        "```"
      ],
      "metadata": {
        "id": "ELxZD9qa_Rp_"
      }
    },
    {
      "cell_type": "code",
      "source": [
        "#Exemplo 2: Recebe n e devolve  a soma dos n primeiros números naturais:\n",
        "\n",
        "n = int(input(\"Digite o valor de n: \"))\n",
        "soma = 0\n",
        "for i in range(1,n+1):\n",
        "    soma += i  #soma = soma + i\n",
        "print(\"A soma dos \", n, \" primeiros números naturais é: \", soma)"
      ],
      "metadata": {
        "id": "iKIxmtUkVaee",
        "outputId": "baa9ecd6-93d4-4555-92fa-cf21ce91fe96",
        "colab": {
          "base_uri": "https://localhost:8080/"
        }
      },
      "execution_count": 2,
      "outputs": [
        {
          "output_type": "stream",
          "name": "stdout",
          "text": [
            "Digite o valor de n: 5\n",
            "A soma dos  5  primeiros números naturais é:  15\n"
          ]
        }
      ]
    },
    {
      "cell_type": "code",
      "source": [
        "#Exemplo 3: Recebe n e k >=0 e determina n^k\n",
        "\n",
        "n = int(input(\"Digite o valor da base: \"))\n",
        "k = int(input(\"Digite o valor do expoente: \"))\n",
        "\n",
        "pot = 1\n",
        "for i in range(k):\n",
        "    pot = pot*n\n",
        "print(n, \"^\", k, \" = \", pot)"
      ],
      "metadata": {
        "id": "7_2XuVmNYd3E",
        "outputId": "42d210ad-5c2a-4541-9ed4-ff59736bf866",
        "colab": {
          "base_uri": "https://localhost:8080/"
        }
      },
      "execution_count": 6,
      "outputs": [
        {
          "output_type": "stream",
          "name": "stdout",
          "text": [
            "Digite o valor da base: 2\n",
            "Digite o valor do expoente: 1\n",
            "2 ^ 1  =  2\n"
          ]
        }
      ]
    },
    {
      "cell_type": "markdown",
      "source": [
        "**Repetição encaixada**\n",
        "\n",
        "Como os comandos de seleção, os comandos de repetição também podem ser \"encaixados'' ou \"aninhados\", ou seja, um comando de repetição dentro de outro comando de repetição.\n",
        "\n",
        "```\n",
        "para i=1 até i=n, faça\n",
        "   para j=1 até j=n, faça\n",
        "      escreva i, j\n",
        "   fim para\n",
        "fim para\n",
        "```\n",
        "Exemplo: Vamos escrever um programa que imprima a tabuada."
      ],
      "metadata": {
        "id": "UzDJTvGGByFP"
      }
    },
    {
      "cell_type": "code",
      "source": [
        "#Este programa mostra a tabuada de 1 até 10\n",
        "\n",
        "for i in range(1,11):\n",
        "    for j in range(1,11):\n",
        "        print(i,\"x\",j,\" = \", i*j)\n",
        "    print()\n"
      ],
      "metadata": {
        "id": "9pndi24Rdiaz",
        "outputId": "b9e748cc-10a9-461e-f9c6-6ac974002040",
        "colab": {
          "base_uri": "https://localhost:8080/"
        }
      },
      "execution_count": 11,
      "outputs": [
        {
          "output_type": "stream",
          "name": "stdout",
          "text": [
            "1 x 1  =  1\n",
            "1 x 2  =  2\n",
            "1 x 3  =  3\n",
            "1 x 4  =  4\n",
            "1 x 5  =  5\n",
            "1 x 6  =  6\n",
            "1 x 7  =  7\n",
            "1 x 8  =  8\n",
            "1 x 9  =  9\n",
            "1 x 10  =  10\n",
            "\n",
            "2 x 1  =  2\n",
            "2 x 2  =  4\n",
            "2 x 3  =  6\n",
            "2 x 4  =  8\n",
            "2 x 5  =  10\n",
            "2 x 6  =  12\n",
            "2 x 7  =  14\n",
            "2 x 8  =  16\n",
            "2 x 9  =  18\n",
            "2 x 10  =  20\n",
            "\n",
            "3 x 1  =  3\n",
            "3 x 2  =  6\n",
            "3 x 3  =  9\n",
            "3 x 4  =  12\n",
            "3 x 5  =  15\n",
            "3 x 6  =  18\n",
            "3 x 7  =  21\n",
            "3 x 8  =  24\n",
            "3 x 9  =  27\n",
            "3 x 10  =  30\n",
            "\n",
            "4 x 1  =  4\n",
            "4 x 2  =  8\n",
            "4 x 3  =  12\n",
            "4 x 4  =  16\n",
            "4 x 5  =  20\n",
            "4 x 6  =  24\n",
            "4 x 7  =  28\n",
            "4 x 8  =  32\n",
            "4 x 9  =  36\n",
            "4 x 10  =  40\n",
            "\n",
            "5 x 1  =  5\n",
            "5 x 2  =  10\n",
            "5 x 3  =  15\n",
            "5 x 4  =  20\n",
            "5 x 5  =  25\n",
            "5 x 6  =  30\n",
            "5 x 7  =  35\n",
            "5 x 8  =  40\n",
            "5 x 9  =  45\n",
            "5 x 10  =  50\n",
            "\n",
            "6 x 1  =  6\n",
            "6 x 2  =  12\n",
            "6 x 3  =  18\n",
            "6 x 4  =  24\n",
            "6 x 5  =  30\n",
            "6 x 6  =  36\n",
            "6 x 7  =  42\n",
            "6 x 8  =  48\n",
            "6 x 9  =  54\n",
            "6 x 10  =  60\n",
            "\n",
            "7 x 1  =  7\n",
            "7 x 2  =  14\n",
            "7 x 3  =  21\n",
            "7 x 4  =  28\n",
            "7 x 5  =  35\n",
            "7 x 6  =  42\n",
            "7 x 7  =  49\n",
            "7 x 8  =  56\n",
            "7 x 9  =  63\n",
            "7 x 10  =  70\n",
            "\n",
            "8 x 1  =  8\n",
            "8 x 2  =  16\n",
            "8 x 3  =  24\n",
            "8 x 4  =  32\n",
            "8 x 5  =  40\n",
            "8 x 6  =  48\n",
            "8 x 7  =  56\n",
            "8 x 8  =  64\n",
            "8 x 9  =  72\n",
            "8 x 10  =  80\n",
            "\n",
            "9 x 1  =  9\n",
            "9 x 2  =  18\n",
            "9 x 3  =  27\n",
            "9 x 4  =  36\n",
            "9 x 5  =  45\n",
            "9 x 6  =  54\n",
            "9 x 7  =  63\n",
            "9 x 8  =  72\n",
            "9 x 9  =  81\n",
            "9 x 10  =  90\n",
            "\n",
            "10 x 1  =  10\n",
            "10 x 2  =  20\n",
            "10 x 3  =  30\n",
            "10 x 4  =  40\n",
            "10 x 5  =  50\n",
            "10 x 6  =  60\n",
            "10 x 7  =  70\n",
            "10 x 8  =  80\n",
            "10 x 9  =  90\n",
            "10 x 10  =  100\n",
            "\n"
          ]
        }
      ]
    },
    {
      "cell_type": "markdown",
      "source": [
        "**Exercícios:**\n",
        "\n",
        "Escreva um algoritmo para cada um dos problemas abaixo.\n",
        "\n",
        "1.   Dado um número inteiro $n>0$. Calcule $n!$.\n",
        "2.   Escreva um programa que calcule a soma:\n",
        "$$H = 1 + \\dfrac{1}{2}+\\dfrac{1}{3}+\\ldots+\\dfrac{1}{n}.$$\n",
        "Da esquerda para a direita e da direita para a esquerda.\n",
        "3. Considere a função $f(x,y) = y+xy-x^2$, com $x$ e $y$ números inteiros nos intervalos $-2\\le x \\le 2$ e $ 0\\le y\\le 4$. Escreva um programa que determine o valor máximo desta função.\n",
        "\n"
      ],
      "metadata": {
        "id": "o_9lhsVVQ2GN"
      }
    }
  ]
}