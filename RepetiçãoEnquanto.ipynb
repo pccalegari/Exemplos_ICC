{
  "nbformat": 4,
  "nbformat_minor": 0,
  "metadata": {
    "colab": {
      "provenance": [],
      "authorship_tag": "ABX9TyMcgidHm+pYeTShZthuNbVL",
      "include_colab_link": true
    },
    "kernelspec": {
      "name": "python3",
      "display_name": "Python 3"
    },
    "language_info": {
      "name": "python"
    }
  },
  "cells": [
    {
      "cell_type": "markdown",
      "metadata": {
        "id": "view-in-github",
        "colab_type": "text"
      },
      "source": [
        "<a href=\"https://colab.research.google.com/github/pccalegari/Exemplos_ICC/blob/main/Repeti%C3%A7%C3%A3oEnquanto.ipynb\" target=\"_parent\"><img src=\"https://colab.research.google.com/assets/colab-badge.svg\" alt=\"Open In Colab\"/></a>"
      ]
    },
    {
      "cell_type": "markdown",
      "source": [
        "# Estruturas de Controle\n",
        "\n",
        "**Comandos de Repetição: Enquanto**\n",
        "\n",
        "O comando de repetição **enquanto** (*while*) permite repetir isntruções enquanto uma condição é verdadeira. A cada repetição temos uma **iteração**.\n",
        "\n",
        "**Sintaxe:**\n",
        "\n",
        "pseudocódigo:\n",
        "\n",
        "```\n",
        "<inicializa condição>\n",
        "\n",
        "enquanto ( <condição> ) faça\n",
        "  <comando 1>\n",
        "  <comando 2>\n",
        "  .\n",
        "  .\n",
        "  .\n",
        "  <atualiza condição>\n",
        "fim enquanto\n",
        "\n",
        " ```\n",
        "*Python:*\n",
        "\n",
        "```\n",
        "<inicializa condição>\n",
        "\n",
        "while ( <condição>):\n",
        "   <comando 1>\n",
        "   <comando 2>\n",
        "   <atualiza condição>\n",
        "\n",
        "<comando fora da repetição>\n",
        "```\n",
        "\n",
        "**Observações:**\n",
        "\n",
        "\n",
        "\n",
        "1.   A ```<condição>``` deve ser uma expressão lógica, ou seja, deve ter como resultado um valor verdadeiro ou falso.\n",
        "2.   Enquanto o resultado da expressão for verdadeiro, os comandos: ```<comando 1>```, ```<comando 2>```, ..., ```<atualiza condição>``` serão executados.\n",
        "3.   Quando o resultado é falso o processo iterativo termina, ou seja, a repetição chaga ao fim e a primeira instrução fora do comando de repetição é executada e o programa segue o seu fluxo.\n",
        "4.   **Não esqueça de simular os seus algoritmos**.\n",
        "\n",
        "**Exemplos:**\n",
        "\n",
        "\n",
        "\n",
        "1. Dado um número natural $n$. Escreva os $n$ primeiros números naturais.\n",
        "\n",
        "*Solução:*\n",
        "\n",
        "Entrada: um número inteiro maior que zero.\n",
        "\n",
        "Saida: Impressão dos $n$ primeiros números naturais.\n",
        "\n",
        "pseudocódigo:\n",
        "\n",
        "```\n",
        "leia n\n",
        "x ⟵ 1\n",
        "enquanto ( x <= n) faça\n",
        "   escreva x\n",
        "   x ⟵ x + 1\n",
        "fim enquanto\n",
        "```\n",
        "**Obs:** Neste exemplo, a variável $x$ é uma variável **contadora**, pois sua função é contar o número de repetições (número de iterações).\n",
        "\n",
        "2.  Dado um número natural $n$. Escreva os números pares entre 1 e $n$.\n",
        "\n",
        "*Solução:*\n",
        "\n",
        "Entrada: um número inteiro maior que zero.\n",
        "\n",
        "Saída: Os números pares entre 1 e n.\n",
        "\n",
        "pseudocódigo:\n",
        "\n",
        "```\n",
        "leia n\n",
        "x ⟵ 2\n",
        "enquanto ( x <= n) faça\n",
        "   escreva x\n",
        "   x ⟵ x + 2\n",
        "fim enquanto\n",
        "```\n",
        "\n",
        "3. Escreva um algoritmo que dada uma sequência de números naturais, terminada com zero, some os números pares e contabilize os números ímpares.\n",
        "\n",
        "*Solução:*\n",
        "\n",
        "Entrada: uma sequência de números naturais, terminada com zero.\n",
        "\n",
        "Saída: A soma dos números pares e a quantidade de números ímpares.\n",
        "\n",
        "pseudocódigo:\n",
        "\n",
        "```\n",
        "leia x\n",
        "somapares ⟵ 0\n",
        "contaimpares ⟵ 0\n",
        "enquanto (x > 0) faça\n",
        "   se (x%2 == 0) então\n",
        "      somapares ⟵ somapares + x\n",
        "   caso contrário\n",
        "      contaimpares ⟵ contaimpares + 1\n",
        "   fim se   \n",
        "   leia x\n",
        "fim enquanto\n",
        "escreva somapares\n",
        "escreva contaimpares\n",
        "```   \n",
        "**Obs:** Neste exemplo, a variável *contaimpares* é uma variável **contadora** e a variável *somapares* é uma variável **acumuladora** pois a sua função é armazenar o resultado de uma operação após uma certa quantidade de iterações.\n",
        "\n",
        "4. Dados dois números inteiros $n$ e $k$, com $k \\ge 0$, determine $n^k$.\n",
        "\n",
        "*Solução:*\n",
        "\n",
        "Entrada: Dois números inteiros $n$ e $k\\ge 0$.\n",
        "\n",
        "Saída: $n^k$, ou seja, $n\\cdot n\\cdots n$, $k$ vezes.\n",
        "\n",
        "pseudocódigo:\n",
        "\n",
        "```\n",
        "leia n, k\n",
        "it ⟵ 1\n",
        "pot ⟵ 1\n",
        "enquanto (it <= k) faça\n",
        "   pot ⟵ pot*n\n",
        "   it ⟵ it + 1\n",
        "fim enquanto\n",
        "escreva pot\n",
        "```   \n",
        "**Obs:** Nesse exemplo, *pot* é uma variável acumuladora e *k* é uma variável contadora.\n"
      ],
      "metadata": {
        "id": "ELxZD9qa_Rp_"
      }
    },
    {
      "cell_type": "markdown",
      "source": [
        "**Exercícios:**\n",
        "\n",
        "Escreva um algoritmo para cada um dos problemas abaixo.\n",
        "\n",
        "1.   Dado um número natural $n$. Calcule a soma dos $n$ primeiros números naturais. Use comando de repetição.\n",
        "2.   Dada uma sequência de números inteiros, terminada com zero. Calcule a soma dos termos dessa sequência.\n",
        "3.   Dados dois números naturais $a$ e $b$. Calcule o produto $a\\cdot b$, usando a operação de adição.\n",
        "4.   Dada uma sequência de números inteiros, diferentes de zero. Apresente o quadrado de cada termo dessa sequência.\n",
        "5.   Dizemos que um número natural é triangular se ele é produto de três naturais consecutivos. Por exemplo, $6$ é triangular pois $6=1\\cdot 2\\cdot 3$. O número $120$ também é triangular, pois $120=4\\cdot 5\\cdot 6$.\n",
        "Dado um número natural $n$. Verifique se $n$ é triangular.\n",
        "6.   Dado um número inteiro $n>0$. Calcule $n!$.\n",
        "7.   Uma fórmula de recorrência, gera uma sequência de números a partir de uma condição inicial e uma expressão que envolva termos anteriores da sequência. Um exemplo de sequência gerada por meio de fórmula de recorrência é a sequência de Fibonacci. Esta sequência modela o crescimento de uma população de coelhos e foi proposta por Leonardo Fibonacci em 1202. A sequência é definida por:\n",
        "$F_1=1, F_2=1$ e $F_{n}=F_{n-1}+F_{n-2}$. Escreva um programa que dado $n$ natural, apresente os $n$ primeiros termos da sequência de Fibonacci.\n",
        "\n"
      ],
      "metadata": {
        "id": "o_9lhsVVQ2GN"
      }
    },
    {
      "cell_type": "code",
      "source": [
        "# Exemplo 1: Esse algoritmo recebe o valor de n e mostra os n primeiros números naturais\n",
        "\n",
        "n = int(input(\"Digite um número inteiro maior que zero: \"))\n",
        "\n",
        "x = 1\n",
        "\n",
        "while(x <= n):\n",
        "    print(x)\n",
        "    x = x + 1"
      ],
      "metadata": {
        "id": "ve5gxSwqTAJA",
        "outputId": "59c47ff0-35be-4f2d-b0ba-3f9a1c21d39e",
        "colab": {
          "base_uri": "https://localhost:8080/"
        }
      },
      "execution_count": null,
      "outputs": [
        {
          "output_type": "stream",
          "name": "stdout",
          "text": [
            "Digite um número inteiro maior que zero: 7\n",
            "1\n",
            "2\n",
            "3\n",
            "4\n",
            "5\n",
            "6\n",
            "7\n"
          ]
        }
      ]
    },
    {
      "cell_type": "code",
      "source": [
        "# Exemplo 2: Esse algoritmo recebe o valor de n e mostra os números pares\n",
        "#entre 1 e n\n",
        "\n",
        "n = int(input(\"Digite um número inteiro maior que zero: \"))\n",
        "\n",
        "x = 2\n",
        "\n",
        "while(x <= n):\n",
        "    print(x)\n",
        "    x = x + 2"
      ],
      "metadata": {
        "id": "mb0kqQgfVIzm",
        "outputId": "58b0f6d7-6876-42b8-8c75-685e79f8144c",
        "colab": {
          "base_uri": "https://localhost:8080/"
        }
      },
      "execution_count": null,
      "outputs": [
        {
          "output_type": "stream",
          "name": "stdout",
          "text": [
            "Digite um número inteiro maior que zero: 10\n",
            "2\n",
            "4\n",
            "6\n",
            "8\n",
            "10\n"
          ]
        }
      ]
    },
    {
      "cell_type": "code",
      "source": [
        "# Exemplo 3: Recebe uma sequência de números\n",
        "# inteiros, terminada em zero e devolve a soma\n",
        "# dos pares e conta a quantidade de ímpares\n",
        "\n",
        "x = int(input(\"Digite o primeiro termo de uma sequência que termina com zero: \"))\n",
        "\n",
        "somapares = 0\n",
        "contaimpares = 0\n",
        "\n",
        "while(x > 0):\n",
        "    if(x%2 == 0):\n",
        "        somapares += x\n",
        "    else:\n",
        "        contaimpares += 1\n",
        "    x = int(input(\"Digite o próximo termo: \"))\n",
        "\n",
        "print(\"Soma dos números pares: \", somapares)\n",
        "print(\"Quantidade de números ímpares: \", contaimpares)"
      ],
      "metadata": {
        "id": "nG3a94YAZAsJ",
        "outputId": "3a69a86b-c16e-412f-ee27-a0a7ab670e3a",
        "colab": {
          "base_uri": "https://localhost:8080/"
        }
      },
      "execution_count": null,
      "outputs": [
        {
          "output_type": "stream",
          "name": "stdout",
          "text": [
            "Digite o primeiro termo de uma sequência que termina com zero: 13\n",
            "Digite o próximo termo: 1\n",
            "Digite o próximo termo: 2\n",
            "Digite o próximo termo: 4\n",
            "Digite o próximo termo: 5\n",
            "Digite o próximo termo: 0\n",
            "Soma dos números pares:  6\n",
            "Quantidade de números ímpares:  3\n"
          ]
        }
      ]
    },
    {
      "cell_type": "code",
      "source": [
        "# Exemplo 4: Recebe um n e um expoente k\n",
        "# e devolve n**k\n",
        "\n",
        "n = float(input(\"Digite a base: \"))\n",
        "k = int(input(\"Digite o expoente: \"))\n",
        "\n",
        "it = 1\n",
        "pot = 1\n",
        "\n",
        "while(it < k + 1):\n",
        "    pot = pot*n\n",
        "    it = it + 1\n",
        "\n",
        "print(n, \"^\", k, \" = \", pot)"
      ],
      "metadata": {
        "id": "vQAOy-aKfmQ0",
        "outputId": "647becba-bc2f-4cc4-f5dc-d7dcb14ee21e",
        "colab": {
          "base_uri": "https://localhost:8080/"
        }
      },
      "execution_count": null,
      "outputs": [
        {
          "output_type": "stream",
          "name": "stdout",
          "text": [
            "Digite a base: -4\n",
            "Digite o expoente: 3\n",
            "-4.0 ^ 3  =  -64.0\n"
          ]
        }
      ]
    },
    {
      "cell_type": "code",
      "source": [
        "print(1.3*1.3*1.3)"
      ],
      "metadata": {
        "id": "uSBoJqY2gt8K",
        "outputId": "6e461766-5d00-4acd-b95b-4ef8dd8cabc4",
        "colab": {
          "base_uri": "https://localhost:8080/"
        }
      },
      "execution_count": null,
      "outputs": [
        {
          "output_type": "stream",
          "name": "stdout",
          "text": [
            "2.1970000000000005\n"
          ]
        }
      ]
    }
  ]
}