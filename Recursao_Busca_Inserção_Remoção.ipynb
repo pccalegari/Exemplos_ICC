{
  "nbformat": 4,
  "nbformat_minor": 0,
  "metadata": {
    "colab": {
      "provenance": [],
      "authorship_tag": "ABX9TyPpjIXJ5wngeYguoLKw3IZW",
      "include_colab_link": true
    },
    "kernelspec": {
      "name": "python3",
      "display_name": "Python 3"
    },
    "language_info": {
      "name": "python"
    }
  },
  "cells": [
    {
      "cell_type": "markdown",
      "metadata": {
        "id": "view-in-github",
        "colab_type": "text"
      },
      "source": [
        "<a href=\"https://colab.research.google.com/github/pccalegari/Exemplos_ICC/blob/main/Recursao_Busca_Inser%C3%A7%C3%A3o_Remo%C3%A7%C3%A3o.ipynb\" target=\"_parent\"><img src=\"https://colab.research.google.com/assets/colab-badge.svg\" alt=\"Open In Colab\"/></a>"
      ]
    },
    {
      "cell_type": "markdown",
      "source": [
        "**Recursão**\n",
        "\n",
        "é o processo de resolver problemas por meio da decomposição de de um problema em um ou mais subproblemas, tais que cada subproblema é idêntico (em estrutura) ao original, porém mais simples de resolver.\n",
        "\n",
        "Aqui veremos a aplicação da recursão em algoritmos.\n",
        "\n",
        "Já estudamos implementamos soluções para problemas que envolviam sequências dadas por fórmulas de recorrência em sua forma iterativa. Vamos reimplementá-los agora usando algoritmos recursivos.\n",
        "\n",
        "Para resolver um problema de forma recursiva podemos seguir o método:\n",
        "\n",
        "se o problema é pequeno,\n",
        "> resolva-o diretamente (use a força bruta, se necessário);\n",
        "\n",
        "senão,\n",
        "> reduza-o a um subproblema, aplique a solução e volte ao problema original.\n",
        "\n",
        "**Exemplos:**\n",
        "\n",
        "1. Escreva um algoritmo recursivo para o cálculo do fatorial de um número.\n",
        "\n",
        "2. Escreva um algoritmo recursivo que receba um número natural e n e devolva o n-ésimo termo da sequência de Fibonacci,\n",
        "\n",
        "$$F_n = F_{n-1}+ F_{n-2}, n\\ge 3, \\mbox{ com } F_0=F_1=1.$$\n",
        "\n"
      ],
      "metadata": {
        "id": "hcrfFf4UEBDC"
      }
    },
    {
      "cell_type": "code",
      "execution_count": null,
      "metadata": {
        "id": "5i7ilsumD6V0"
      },
      "outputs": [],
      "source": [
        "# Versão iterativa\n",
        "def fatorial_iterativo(n):\n",
        "    fat = 1\n",
        "    for i in range(2,n+1):\n",
        "        fat = fat*i\n",
        "    return fat\n",
        "\n",
        "# Versão recursiva\n",
        "def fatorial_recursivo(n):\n",
        "    if n == 1:\n",
        "        fat = 1\n",
        "    else:\n",
        "        fat = n*fatorial_recursivo(n-1)\n",
        "    return fat\n",
        "\n",
        "n = 4\n",
        "print(fatorial_recursivo(n))"
      ]
    },
    {
      "cell_type": "code",
      "source": [
        "# Versão iterativa da sequência de Fibonacci\n",
        "\n",
        "def fibonacci(n):\n",
        "    f1 = 1\n",
        "    f2 = 1\n",
        "    if(n == 1 or n ==2):\n",
        "        fib = 1\n",
        "    else:\n",
        "        for i in range(3,n+1):\n",
        "            fib = f1 + f2\n",
        "            f1 = f2\n",
        "            f2 = fib\n",
        "\n",
        "    return fib\n",
        "\n",
        "def fibonacci_recursivo(n):\n",
        "    if (n == 1 or n == 2):\n",
        "        fib = 1\n",
        "    else:\n",
        "        fib = fibonacci_recursivo(n-1) + fibonacci_recursivo(n-2)\n",
        "    return fib\n",
        "\n",
        "n = 8\n",
        "print(fibonacci_recursivo(n))\n",
        "\n"
      ],
      "metadata": {
        "id": "7_goPxAJEINQ"
      },
      "execution_count": null,
      "outputs": []
    },
    {
      "cell_type": "markdown",
      "source": [
        "**Operações: Busca, remove e insere em vetores**\n",
        "\n",
        "\n",
        "\n",
        "*   **Busca:**\n",
        "\n",
        "*Problema:* Dado um número $x$ e um vetor $u$, determinar o índice $k$ tal que $u[k] = x$.\n",
        "\n",
        " No algoritmo a seguir a saída $-1$ indica que o valor $x$ não está no vetor $u$.\n",
        "\n",
        "*Algoritmo:*\n",
        "\n",
        "\n",
        "```\n",
        "Dados x, n e u\n",
        "k = n-1\n",
        "enquanto (k >= 0 e u[k] != x) faça\n",
        "   k = k - 1\n",
        "fim enquanto\n",
        "```\n",
        "\n",
        "*Versão recursiva:*\n",
        "\n",
        "\n",
        "```\n",
        "def busca_r(x, n, u):\n",
        "   if n == 0:\n",
        "      return -1\n",
        "   if x == u[n-1]:\n",
        "      return n-1\n",
        "   return busca_r(x, n-1, u)\n",
        "```\n",
        "\n",
        "O número de elementos para analisar em $u$ é $n-1$. Se $n=0$, significa que o vetor está vazio e $x$ não está em $u$. Se $n>0$, $x$ está em $u[0\\cdots n-1]$ se e somente se $x$ é igual $u[n-1]$ ou $x$ está em $u[0\\cdots n-2]$.\n",
        "\n",
        "\n",
        "\n"
      ],
      "metadata": {
        "id": "WAP_hM1iENOz"
      }
    },
    {
      "cell_type": "code",
      "source": [
        "# Versão iterativa\n",
        "\n",
        "def busca(x, n, u):\n",
        "    pass\n",
        "\n",
        "def main():\n",
        "    u = [11, 0, 3, -4, 13, 0, 123, 0, -1]\n",
        "    x = 0\n",
        "    n = len(u)\n",
        "    ind = busca(x, n, u)\n",
        "    print(ind)\n",
        "\n",
        "main()"
      ],
      "metadata": {
        "colab": {
          "base_uri": "https://localhost:8080/"
        },
        "id": "PWpP5GIuqwm1",
        "outputId": "03101ab0-dad7-4c15-be60-288d544babd2"
      },
      "execution_count": 3,
      "outputs": [
        {
          "output_type": "stream",
          "name": "stdout",
          "text": [
            "None\n"
          ]
        }
      ]
    },
    {
      "cell_type": "code",
      "source": [
        "# Versão recursiva\n",
        "\n",
        "def busca_r(x, n, u):\n",
        "    pass\n",
        "\n",
        "def main():\n",
        "    u = [11, 0, 3, -4, 13, 0, 123, 0, -1]\n",
        "    x = -4\n",
        "    n = len(u)\n",
        "    ind = busca_r(x, n, u)\n",
        "    print(ind)\n",
        "\n",
        "main()"
      ],
      "metadata": {
        "colab": {
          "base_uri": "https://localhost:8080/"
        },
        "id": "E18o_-bIrjTV",
        "outputId": "a80dcc0c-c0bb-42bb-d9c4-f3f73bfe5855"
      },
      "execution_count": 9,
      "outputs": [
        {
          "output_type": "stream",
          "name": "stdout",
          "text": [
            "None\n"
          ]
        }
      ]
    },
    {
      "cell_type": "markdown",
      "source": [
        "*   **Remoção:**\n",
        "\n",
        "*Problema:* queremos remover o elemento de índice $k$ do vetor $u[0\\cdots n-1]$.\n",
        "\n",
        "Para isso, vamos devolver o valor armazenado no índice $k$ e transladar todos os elementos de $u$ a partir desta posição.\n",
        "\n",
        "*Algoritmo:*\n",
        "\n",
        "\n",
        "```\n",
        "Dados k, n e u\n",
        "x = u[k]\n",
        "Para i = k+1 até n, faça\n",
        "   u[i-1] = u[i]\n",
        "fim para\n",
        "Devolva x\n",
        "```\n",
        "\n",
        "*Versão recursiva:*\n",
        "\n",
        "\n",
        "```\n",
        "def remove_r(k, n, u):\n",
        "   x = u[k]\n",
        "   if(k < n - 1):\n",
        "      y = remove_r(k+1, n, u)\n",
        "      u[k] = y\n",
        "   return x\n",
        "```\n",
        "\n",
        "\n"
      ],
      "metadata": {
        "id": "eJEuvGvbp3yX"
      }
    },
    {
      "cell_type": "code",
      "source": [
        "# Versão iterativa\n",
        "\n",
        "def remove(k, n, u):\n",
        "    pass\n",
        "\n",
        "def main():\n",
        "    u = [11, 0, 3, -4, 13, 0, 123, 0, -1]\n",
        "    k = 0\n",
        "    n = len(u)\n",
        "    x = remove(k, n, u)\n",
        "    print(x)\n",
        "    print(u)\n",
        "\n",
        "main()"
      ],
      "metadata": {
        "colab": {
          "base_uri": "https://localhost:8080/"
        },
        "id": "wQxu-lxDunUZ",
        "outputId": "131a664e-133e-4ad0-f774-fba53797778e"
      },
      "execution_count": 18,
      "outputs": [
        {
          "output_type": "stream",
          "name": "stdout",
          "text": [
            "None\n",
            "[11, 0, 3, -4, 13, 0, 123, 0, -1]\n"
          ]
        }
      ]
    },
    {
      "cell_type": "code",
      "source": [
        "# Versão Recursiva\n",
        "\n",
        "def remove_r(k, n, u):\n",
        "   pass\n",
        "\n",
        "def main():\n",
        "    u = [11, 0, 3, -4, 13, 0, 123, 0, -1]\n",
        "    k = 5\n",
        "    n = len(u)\n",
        "    x = remove_r(k, n, u)\n",
        "    print(x)\n",
        "    print(u)\n",
        "\n",
        "main()"
      ],
      "metadata": {
        "colab": {
          "base_uri": "https://localhost:8080/"
        },
        "id": "40k8lGO1unlm",
        "outputId": "8cebb8ec-3657-4009-b59d-4f618911f2c2"
      },
      "execution_count": 27,
      "outputs": [
        {
          "output_type": "stream",
          "name": "stdout",
          "text": [
            "None\n",
            "[11, 0, 3, -4, 13, 0, 123, 0, -1]\n"
          ]
        }
      ]
    },
    {
      "cell_type": "markdown",
      "source": [
        "\n",
        "\n",
        "\n",
        "*   **Inserção:**\n",
        "\n",
        "\n",
        "*Problema:* Dado um vetor $u$, um número $x$ e um índice $k$ (do vetor $u$), queremos inserir $x$ entre os índices $k-1$ e $k$, inclusive se $k=0$ (inserção no início) ou se $k=n-1$ (inserção no final).\n",
        "\n",
        "Para isso, vamos transladar todos os elementos de $u$ a partir da posição $k-1$ e alterar o valor de $u[k]$.\n",
        "\n",
        "*Algoritmo:*\n",
        "\n",
        "\n",
        "```\n",
        "Dados x, k, n e u\n",
        "i = n\n",
        "enquanto i >= k+1, faça\n",
        "   u[i] = u[i-1]\n",
        "   i = i - 1\n",
        "fim para\n",
        "v[k] = x\n",
        "```\n",
        "\n",
        "*Versão recursiva:*\n",
        "\n",
        "\n",
        "```\n",
        "def insere_r(k, x, n, u):\n",
        "   if(k == n):\n",
        "      u[n] = x\n",
        "   else:\n",
        "      u[n] = u[n-1]\n",
        "      insere_r(k, x, n-1, u)\n",
        "   \n",
        "```"
      ],
      "metadata": {
        "id": "u-lVSFvup403"
      }
    },
    {
      "cell_type": "code",
      "source": [
        "import numpy as np\n",
        "# Versão iterativa\n",
        "\n",
        "def insere(k, x, n, u):\n",
        "    pass\n",
        "\n",
        "def main():\n",
        "    u = [11, 0, 3, -4, 13, 0, 123, 0, -1]\n",
        "    k = 0\n",
        "    x = -1\n",
        "    n = len(u)\n",
        "    insere(k, x, n, u)\n",
        "    print(u)\n",
        "\n",
        "main()"
      ],
      "metadata": {
        "colab": {
          "base_uri": "https://localhost:8080/"
        },
        "id": "cMhh2Ay_zxEC",
        "outputId": "20c6dfbf-b309-4f2c-f22c-dfa139ac9182"
      },
      "execution_count": 35,
      "outputs": [
        {
          "output_type": "stream",
          "name": "stdout",
          "text": [
            "[11, 0, 3, -4, 13, 0, 123, 0, -1]\n"
          ]
        }
      ]
    },
    {
      "cell_type": "code",
      "source": [
        "import numpy as np\n",
        "# Versão recursiva\n",
        "\n",
        "def insere_r(k, x, n, u):\n",
        "    pass\n",
        "\n",
        "def main():\n",
        "    u = [11, 0, 3, -4, 13, 0, 123, 0, -1]\n",
        "    n = len(u)\n",
        "    u.append(np.inf)\n",
        "    print(u)\n",
        "    k = 4\n",
        "    x = -1\n",
        "    insere_r(k, x, n, u)\n",
        "    print(u)\n",
        "\n",
        "main()"
      ],
      "metadata": {
        "colab": {
          "base_uri": "https://localhost:8080/"
        },
        "id": "oZY9dffgzxSL",
        "outputId": "bccf0e50-0923-43ea-a538-3a76f5cc2666"
      },
      "execution_count": 40,
      "outputs": [
        {
          "output_type": "stream",
          "name": "stdout",
          "text": [
            "[11, 0, 3, -4, 13, 0, 123, 0, -1, inf]\n",
            "[11, 0, 3, -4, -1, 13, 0, 123, 0, -1]\n"
          ]
        }
      ]
    },
    {
      "cell_type": "markdown",
      "source": [
        "*   **Busca e remoção:**\n",
        "\n",
        "O problema é uma combinação dos problemas de busca e remoção. Por exemplo, suponha que queremos remover todos os elementos nulos de um vetor $u[0\\cdots n-1]$. O algoritmo a seguir\n",
        "\n",
        "*Algoritmo:*\n",
        "\n",
        "\n",
        "```\n",
        "Dados n e u\n",
        "i = 0\n",
        "Para j = 0 até n-1, faça\n",
        "   se (u[j] != 0) então\n",
        "      u[i] = u[j]\n",
        "      i = i + 1\n",
        "   fim se\n",
        "fim para\n",
        "return i\n",
        "```\n",
        "\n",
        "*Versão recursiva:*\n",
        "\n",
        "\n",
        "```\n",
        "def tirazeros_r(n, u):\n",
        "   if(n == 0):\n",
        "      return 0\n",
        "   m = tirazeros_r(n-1, u)\n",
        "   if(u[n-1] == 0):\n",
        "      return m\n",
        "   u[m] = u[n-1]\n",
        "   return m + 1\n",
        "   \n",
        "```\n",
        "\n",
        "\n",
        "\n",
        "[1] https://www.ime.usp.br/~pf/algoritmos/aulas/array.html"
      ],
      "metadata": {
        "id": "d0O8SUNeqD8W"
      }
    },
    {
      "cell_type": "code",
      "source": [
        "def tirazeros(n, u):\n",
        "    pass\n",
        "\n",
        "\n",
        "def tirazeros_r(n, u):\n",
        "    pass\n",
        "\n",
        "def main():\n",
        "    u = [11, 0, 3, -4, 13, 0, 123, 0, -1]\n",
        "    n = len(u)\n",
        "    print(u)\n",
        "    m = tirazeros(n, u)\n",
        "    print(u[0:m])\n",
        "\n",
        "main()"
      ],
      "metadata": {
        "colab": {
          "base_uri": "https://localhost:8080/"
        },
        "id": "r7B50MY-GYpi",
        "outputId": "5981a660-345b-4052-b6be-289d7281631e"
      },
      "execution_count": 44,
      "outputs": [
        {
          "output_type": "stream",
          "name": "stdout",
          "text": [
            "[11, 0, 3, -4, 13, 0, 123, 0, -1]\n",
            "[11, 3, -4, 13, 123, -1]\n"
          ]
        }
      ]
    }
  ]
}