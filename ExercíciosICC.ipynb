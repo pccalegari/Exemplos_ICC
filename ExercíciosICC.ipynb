{
  "nbformat": 4,
  "nbformat_minor": 0,
  "metadata": {
    "colab": {
      "provenance": [],
      "authorship_tag": "ABX9TyO9NUzKJW53HTnBB20y9e7u",
      "include_colab_link": true
    },
    "kernelspec": {
      "name": "python3",
      "display_name": "Python 3"
    },
    "language_info": {
      "name": "python"
    }
  },
  "cells": [
    {
      "cell_type": "markdown",
      "metadata": {
        "id": "view-in-github",
        "colab_type": "text"
      },
      "source": [
        "<a href=\"https://colab.research.google.com/github/pccalegari/Exemplos_ICC/blob/main/Exerc%C3%ADciosICC.ipynb\" target=\"_parent\"><img src=\"https://colab.research.google.com/assets/colab-badge.svg\" alt=\"Open In Colab\"/></a>"
      ]
    },
    {
      "cell_type": "markdown",
      "source": [
        "#Solução de alguns exercícios:\n",
        "\n",
        "**Exercício 5:** (Lista preparação para a P2)\n",
        "\n",
        "A função se chama max_matriz, ela recebe uma matriz A e o tamanho da matriz quadrada, n (número de linhas e coluna). A função calcula o maior elemento da matriz em valor absoluto.\n",
        "\n",
        "```\n",
        "max_matriz(A, n)\n",
        "   elem_max = 0\n",
        "   para i = 0 até n-1, faça\n",
        "      para j = 0 até n-1, faça\n",
        "         se |A[i][j]| > elem_max, então\n",
        "            elem_max = |A[i][j]|\n",
        "         fim se\n",
        "      fim para\n",
        "   fim para\n",
        "   Devolva elem_max       \n",
        "```\n",
        "\n",
        "Simulação:\n",
        "$$A=\\left(\\begin{array}{ccc}\n",
        "1 & 4 & 0\\\\\n",
        "-2 & 4 & 8\\\\\n",
        "-5 & 7 & 1\n",
        "\\end{array}\\right)$$\n",
        "```\n",
        "A = [[1, 4, 0], [-2, 4, 8], [-5, 7,1]]\n",
        "emax = max_matriz(A, 3)\n",
        "elem_max = 0\n",
        "Para i = 0 e j = 0:\n",
        "|1| > 0 ? Sim, então elem_max = 1\n",
        "Para i = 0 e j = 1:\n",
        "|4| > 1 ? Sim, então elem_max = 4\n",
        "Para i = 0 e j = 2:\n",
        "|0| > 4 ? Não\n",
        "Para i = 1 e j = 0:\n",
        "|-2| > 4 ? Não\n",
        "...\n",
        "Para i = 2 e j = 1:\n",
        "|7| > 8 ? Não\n",
        "Para i = 2 e j = 2:\n",
        "|1| > 8 ? Não\n",
        "\n",
        "```"
      ],
      "metadata": {
        "id": "xHi7oMmo6Q0s"
      }
    },
    {
      "cell_type": "code",
      "source": [
        "#função que calcula o maximo em valor absoluto de uma matriz\n",
        "def max_matriz(A):\n",
        "    n = len(A[0])\n",
        "    elem_max = 0\n",
        "    for i in range(n):\n",
        "        for j in range(n):\n",
        "            if abs(A[i][j]) > elem_max:\n",
        "                elem_max = abs(A[i][j])\n",
        "    return elem_max\n",
        "\n",
        "#Teste\n",
        "A = [[1, 4, 0], [-2, 4, 8], [-5, 7,1]]\n",
        "emax = max_matriz(A)\n",
        "print(emax)\n",
        "\n"
      ],
      "metadata": {
        "colab": {
          "base_uri": "https://localhost:8080/"
        },
        "id": "yGzXGqER97du",
        "outputId": "5805a097-f52d-46a0-a3af-07fdd4645474"
      },
      "execution_count": 8,
      "outputs": [
        {
          "output_type": "stream",
          "name": "stdout",
          "text": [
            "8\n"
          ]
        }
      ]
    },
    {
      "cell_type": "markdown",
      "source": [
        "**Exercício 6**\n",
        "\n",
        "Este algoritmo recebe uma frase (sem espaços) e determina a frequência de vogais.\n",
        "A string f contém a frase sem espaços, com todas as letras minúsculas e terminada com '.'\n",
        "\n",
        "```\n",
        "i = 0\n",
        "v = 0\n",
        "enquanto f[i] != ., faça\n",
        "   se f[i] != a ou f[i]!= e ou f[i]!= i ou f[i] != o ou f[i] != u, então\n",
        "      v = v + 1\n",
        "   i = i + 1\n",
        "Escreva v, i-1\n",
        "   "
      ],
      "metadata": {
        "id": "jpzfbufcBIVN"
      }
    },
    {
      "cell_type": "code",
      "source": [
        "frase = 'socorrommesubinoonimbusemmarrocos.'\n",
        "i = 0\n",
        "v = 0\n",
        "while frase[i] != '.':\n",
        "    l = frase[i]\n",
        "    if l == 'a' or l == 'e' or l == 'i' or l == 'o' or l == 'u':\n",
        "        v += 1\n",
        "    i += 1\n",
        "print(v,i-1)\n",
        "\n"
      ],
      "metadata": {
        "colab": {
          "base_uri": "https://localhost:8080/"
        },
        "id": "bSe3DrHZCYT4",
        "outputId": "16c43862-d296-4508-fa95-8e74682a287c"
      },
      "execution_count": 11,
      "outputs": [
        {
          "output_type": "stream",
          "name": "stdout",
          "text": [
            "14 32\n"
          ]
        }
      ]
    }
  ]
}