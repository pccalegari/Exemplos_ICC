{
  "nbformat": 4,
  "nbformat_minor": 0,
  "metadata": {
    "colab": {
      "provenance": [],
      "authorship_tag": "ABX9TyOO1ToRaKOVpPTtxrcStJV7",
      "include_colab_link": true
    },
    "kernelspec": {
      "name": "python3",
      "display_name": "Python 3"
    },
    "language_info": {
      "name": "python"
    }
  },
  "cells": [
    {
      "cell_type": "markdown",
      "metadata": {
        "id": "view-in-github",
        "colab_type": "text"
      },
      "source": [
        "<a href=\"https://colab.research.google.com/github/pccalegari/Exemplos_ICC/blob/main/aula8_fun%C3%A7%C3%B5es_parte2.ipynb\" target=\"_parent\"><img src=\"https://colab.research.google.com/assets/colab-badge.svg\" alt=\"Open In Colab\"/></a>"
      ]
    },
    {
      "cell_type": "markdown",
      "source": [
        "# Mais sobre Funções\n",
        "\n",
        "Nas últimas aulas vimos os seguinte conceitos:\n",
        "\n",
        "\n",
        "*   Comandos de Seleção;\n",
        "*   Comandos de Repetição;\n",
        "*   Funções.\n",
        "\n",
        "Hoje vamos apresentar algumas aplicações dos operadores divisão inteira (//) e resto da divisão (%). Além de apresentar alguns padrões de computação. Vamos resolver problemas utilizando e criando novas funções.\n",
        "\n",
        "\n",
        "\n",
        "**Divisão inteira:**\n",
        "\n",
        "O resultado de uma divisão inteira é sempre um número inteiro. A divisão inteira (ou divisão com resto) é uma das primeiras operações que aprendemos na escola. Experimente no terminal do *Python*:\n",
        "\n",
        "```\n",
        ">> 3//2\n",
        ">> 1\n",
        ">> 3%2\n",
        ">> 1\n",
        "```\n",
        "\n",
        "Já utilizamos estas operações para verificar se um número divide outro. Mas exeistem outras aplicações desta operação. Alguns problemas de Introdução à Computação necessitam manipular os dígitos de um número por exemplo. Para isso, precisamos \"arrancar\" os dígitos de um número.\n",
        "Isso é possível quando fazemos a divisão inteira por 10.\n",
        "\n",
        "```\n",
        ">> 134//10\n",
        ">> 13\n",
        ">> 134%10\n",
        ">> 4\n",
        "```\n",
        "\n",
        "Considere o seguinte problema: Dado um número inteiro $n$ e um algarismo $d$ ($0\\le d\\le 9$), determinar quantas vezes $d$ ocorre em $n$.\n",
        "\n",
        "**Exemplo:** O algarismo $2$ aparece duas vezes no número $12132$.\n",
        "\n",
        "Para gerar uma sequência composta pelos dígitos de $n$, vamos usar a seguinte repetição:\n",
        "\n",
        "```\n",
        "n = 12132\n",
        "\n",
        "while(n > 0):\n",
        "    b = n % 10\n",
        "    n = n // 10\n",
        "    print(n, b)\n",
        "```\n",
        "\n",
        "\n",
        "\n",
        "\n"
      ],
      "metadata": {
        "id": "ELxZD9qa_Rp_"
      }
    },
    {
      "cell_type": "code",
      "source": [],
      "metadata": {
        "id": "YNV2zbuKTR5Q"
      },
      "execution_count": null,
      "outputs": []
    },
    {
      "cell_type": "code",
      "source": [],
      "metadata": {
        "id": "_Bjg49nlTSIo"
      },
      "execution_count": null,
      "outputs": []
    },
    {
      "cell_type": "code",
      "source": [
        "# Sucessivas divisoes por 10 em n\n",
        "\n",
        "n = 1340\n",
        "\n",
        "while n > 0:\n",
        "   b = n % 10\n",
        "   n = n // 10\n",
        "   print('n = ', n, 'b = ', b)\n"
      ],
      "metadata": {
        "colab": {
          "base_uri": "https://localhost:8080/"
        },
        "id": "AFTHQpUWQi_c",
        "outputId": "21f0e5ad-5743-4915-d87f-1c12f6e09f66"
      },
      "execution_count": null,
      "outputs": [
        {
          "output_type": "stream",
          "name": "stdout",
          "text": [
            "n =  134 b =  0\n",
            "n =  13 b =  4\n",
            "n =  1 b =  3\n",
            "n =  0 b =  1\n"
          ]
        }
      ]
    },
    {
      "cell_type": "markdown",
      "source": [
        "*Exemplo 1:* Escrever uma função recebe um número inteiro e um algarismo e calcula a ocorrência do algarismo no número inteiro."
      ],
      "metadata": {
        "id": "0P9CXdGJRlc4"
      }
    },
    {
      "cell_type": "code",
      "source": [
        "#Função que recebe n (inteiro) e d (algarismo) e calcula a frequência de d em n\n",
        "\n",
        "def frequencia_algarismo(n, d):\n",
        "  freq = 0\n",
        "  while n > 0:\n",
        "    b = n % 10\n",
        "    if b == d:\n",
        "      freq = freq + 1\n",
        "    n = n // 10\n",
        "  return freq\n",
        "\n",
        "def main():\n",
        "\n",
        "  n = 234\n",
        "  d = 2\n",
        "\n",
        "  f = frequencia_algarismo(n, d)\n",
        "  print(\"A frequencia de \", d, \"em \", n, \" é: \", f)\n",
        "\n",
        "main()\n"
      ],
      "metadata": {
        "id": "bQVA1QK3CwN4",
        "colab": {
          "base_uri": "https://localhost:8080/"
        },
        "outputId": "72d5eb79-5947-4f8f-8067-5093f9c03269"
      },
      "execution_count": null,
      "outputs": [
        {
          "output_type": "stream",
          "name": "stdout",
          "text": [
            "A frequencia de  2 em  234  é:  1\n"
          ]
        }
      ]
    },
    {
      "cell_type": "markdown",
      "source": [
        "**Padrões Computacionais**\n",
        "\n",
        "Para a resolução de alguns problemas usamos alguns padrões computacionais. Vamos apresentar os seguintes:\n",
        "\n",
        "\n",
        "1.   Padrão sequência numérica lida;\n",
        "2.   Padrão sequência numérica gerada;\n",
        "3.   Padrão sequência numérica selecionada;\n",
        "\n",
        "Muitos problemas de Introdução à Computação envolvem gerar e/ou ler pelo teclado uma sequência numérica.\n",
        "\n",
        "Exemplos de sequência lidas:\n",
        "\n",
        "1.   Uma sequência de números inteiros terminada em zero: $-1, 2, 5, 13, -7, 0$.\n",
        "2.   Uma sequência $n$ de números reais: para $n=4$, uma sequência é $1, 0.5, 2.33, -0.72$.\n",
        "\n",
        "Exemplos de sequências geradas:\n",
        "\n",
        "1.   A sequência de número inteiros de 1 até $n$: $1, 2, \\ldots, n$.\n",
        "2.   A sequência de algarismos de um número.\n",
        "3.   Os divisores de um número.\n",
        "\n",
        "Um **padrão de programação** é um trecho de código que tem uma utilidade bem definida e pode ser reutilizado.\n",
        "\n",
        "*   Padrão de sequência lida:\n",
        "\n",
        "```\n",
        "<comando inicializa condição>\n",
        "\n",
        "while <condição>:\n",
        "    \n",
        "    <comandos>\n",
        "    \n",
        "    <variavel> = int(input('Digite um inteiro:'))\n",
        "\n",
        "    <outros comandos>\n",
        "\n",
        "    <atualiza condição>\n",
        "\n",
        "<comandos fora da repetição>\n",
        "```\n",
        "\n",
        "*Exemplo 2:* Dada uma sequência de números inteiros, terminada por zero. Determine quantidade de números positivos e a quantidade de números negativos."
      ],
      "metadata": {
        "id": "tPby7UZU8DaJ"
      }
    },
    {
      "cell_type": "code",
      "source": [
        "#solução feita em aula\n",
        "\n",
        "#inicializa a condição\n",
        "s = int(input('Digite o primeiro termo da sequência: '))\n",
        "\n",
        "conta_positivos = 0\n",
        "conta_negativos = 0\n",
        "while( s != 0): # condição\n",
        "  if(s > 0):\n",
        "    conta_positivos += 1 # conta_positivos = conta_positivos + 1\n",
        "  else:\n",
        "    conta_negativos += 1\n",
        "\n",
        "  # sequência lida\n",
        "  s = int(input('Digite outro número da sequência: '))\n",
        "\n",
        "print(\"\\n\")\n",
        "print(\"Número de positivos na sequência :\", conta_positivos)\n",
        "print(\"Número de negativos na sequência :\", conta_negativos)\n"
      ],
      "metadata": {
        "id": "Jo6iPn9UQ0E6",
        "colab": {
          "base_uri": "https://localhost:8080/"
        },
        "outputId": "cb33b4e0-459c-42d6-8fd3-fffadf010c3c"
      },
      "execution_count": null,
      "outputs": [
        {
          "output_type": "stream",
          "name": "stdout",
          "text": [
            "Digite o primeiro termo da sequência: 1\n",
            "Digite outro número da sequência: -2\n",
            "Digite outro número da sequência: 1\n",
            "Digite outro número da sequência: 1\n",
            "Digite outro número da sequência: 0\n",
            "\n",
            "\n",
            "Número de positivos na sequência : 3\n",
            "Número de negativos na sequência : 1\n"
          ]
        }
      ]
    },
    {
      "cell_type": "markdown",
      "source": [
        "*Exemplo 3:* Dada uma sequência de $n$ números reais, que correspondem as notas dos estudantes em uma avaliação. Determine a média da turma nesta avaliação."
      ],
      "metadata": {
        "id": "ZV2gji5mjVfj"
      }
    },
    {
      "cell_type": "code",
      "source": [
        "#solução feita em aula\n",
        "n = int(input(\"Digite o número de estudantes: \"))\n",
        "soma = 0                                   # i = 0\n",
        "for i in range(n):                         # while (i < n):\n",
        "   nota = float(input(\"Digite a nota: \"))  #    i += 1\n",
        "   soma = soma + nota\n",
        "\n",
        "media = soma/n\n",
        "print(\"Media da turma: \", media)\n",
        "\n"
      ],
      "metadata": {
        "id": "H3Kc59UMjwnT",
        "colab": {
          "base_uri": "https://localhost:8080/"
        },
        "outputId": "ecf46a68-3bfd-49a7-b2b7-02d20efae404"
      },
      "execution_count": null,
      "outputs": [
        {
          "output_type": "stream",
          "name": "stdout",
          "text": [
            "Digite o número de estudantes: 4\n",
            "Digite a nota: 4.5\n",
            "Digite a nota: 7\n",
            "Digite a nota: 8.7\n",
            "Digite a nota: 7\n",
            "Media da turma:  6.8\n"
          ]
        }
      ]
    },
    {
      "cell_type": "markdown",
      "source": [
        "*   Padrão de sequência gerada:\n",
        "\n",
        "```\n",
        "<comando inicializa condição>\n",
        "\n",
        "while <condição>:\n",
        "    \n",
        "    <comandos>\n",
        "    \n",
        "    <variavel> = <expressão aritmética>\n",
        "\n",
        "    <outros comandos>\n",
        "\n",
        "    <atualiza condição>\n",
        "\n",
        "<comandos fora da repetição>\n",
        "```\n",
        "\n",
        "*Exemplo 4:* Dado um número natural $n$ escreva uma função que calcule o fatorial de $n$.\n",
        "\n",
        "\n"
      ],
      "metadata": {
        "id": "4KkIr6fkiuNv"
      }
    },
    {
      "cell_type": "code",
      "source": [
        "#solução feita em aula:\n",
        "# Fatorial usando for\n",
        "def fatorial(n):\n",
        "  fat = 1\n",
        "  for i in range(1,n+1):\n",
        "    fat = fat * i\n",
        "  return fat\n",
        "\n",
        "# fatorial usando while\n",
        "def fatorial2(n):\n",
        "  fat = 1\n",
        "  i = 1\n",
        "  while(i <= n):\n",
        "    fat = fat*i\n",
        "    i = i + 1\n",
        "  return fat\n",
        "\n",
        "def main():\n",
        "  n = 5\n",
        "  fatorial_n = fatorial(n)\n",
        "  print(\"n! = \", fatorial_n)\n",
        "\n",
        "main()"
      ],
      "metadata": {
        "id": "r1_o87pIiwVs",
        "colab": {
          "base_uri": "https://localhost:8080/"
        },
        "outputId": "a6e1eb83-80f2-4254-92c4-a146228ce4a6"
      },
      "execution_count": null,
      "outputs": [
        {
          "output_type": "stream",
          "name": "stdout",
          "text": [
            "n! =  120\n"
          ]
        }
      ]
    },
    {
      "cell_type": "markdown",
      "source": [
        "\n",
        "*   Padrão de sequência numérica selecionada:\n",
        "\n",
        "```\n",
        "<comando inicializa condição>\n",
        "\n",
        "while <condição da repetição>:\n",
        "    \n",
        "    \n",
        "    <inicializa a condição da seleção>\n",
        "\n",
        "    if <condição da seleção>:\n",
        "\n",
        "        # número da sequência selecionado\n",
        "\n",
        "    <comandos fora da seleção>\n",
        "\n",
        "    # gera ou lê um número da sequência\n",
        "\n",
        "    <atualiza condição da repetição>\n",
        "\n",
        "<comandos fora da repetição>\n",
        "```\n",
        "*Exemplo 5:* Dada uma sequência de $n$ números inteiros, determinar a soma dos números pares."
      ],
      "metadata": {
        "id": "wQR0x6Vliw-E"
      }
    },
    {
      "cell_type": "code",
      "source": [
        "# solução feita em aula\n",
        "n = int(input(\"Digite o número de termos da sequência: \"))\n",
        "soma = 0\n",
        "for i in range(n):\n",
        "  s = int(input(\"Digite um número da sequência: \"))\n",
        "  if ( s % 2 == 0):\n",
        "    soma = soma + s\n",
        "print(\"A soma dos pares é: \", soma)"
      ],
      "metadata": {
        "id": "sPKQ8IGW2bro",
        "colab": {
          "base_uri": "https://localhost:8080/"
        },
        "outputId": "49ed203d-2bf9-40a9-dac0-4beab28a9e98"
      },
      "execution_count": null,
      "outputs": [
        {
          "output_type": "stream",
          "name": "stdout",
          "text": [
            "Digite o número de termos da sequência: 3\n",
            "Digite um número da sequência: 1\n",
            "Digite um número da sequência: 2\n",
            "Digite um número da sequência: 4\n",
            "A soma dos pares é:  6\n"
          ]
        }
      ]
    },
    {
      "cell_type": "markdown",
      "source": [
        "*   Padrão de sequência numérica alternadamente selecionada:\n",
        "\n",
        "```\n",
        "<comando inicializa condição>\n",
        "\n",
        "while <condição da repetição>:\n",
        "    \n",
        "    \n",
        "    <inicializa a condição da seleção>\n",
        "\n",
        "    if <condição da seleção>:\n",
        "\n",
        "        # número da sequência selecionado\n",
        "\n",
        "    else:\n",
        "       \n",
        "        # outro número da sequência\n",
        "\n",
        "    <comandos fora da seleção>\n",
        "\n",
        "    # gera ou lê um número da sequência\n",
        "\n",
        "    <atualiza condição da repetição>\n",
        "\n",
        "<comandos fora da repetição>\n",
        "```\n",
        "*Exemplo 6:* Dada a sequência dos $n$ primeiros números naturais, determinar a quantidade de números divisíveis por três e a soma dos números divisíveis por quatro."
      ],
      "metadata": {
        "id": "qWkXoznX3Rqx"
      }
    },
    {
      "cell_type": "code",
      "source": [
        "# Exercício"
      ],
      "metadata": {
        "id": "hNgszisW5KD2"
      },
      "execution_count": null,
      "outputs": []
    },
    {
      "cell_type": "markdown",
      "source": [
        "**Exercícios:**\n",
        "\n",
        "1.   Escreva uma função que calcule a soma dos dígitos de um número inteiro. Exemplo: Se n = 1235 a soma dos algarismos de n é 11.\n",
        "\n",
        "2.   Dado um número na base binária, escreva uma função que o transforme na base decimal. Exemplo: Se n = 10011 (base binária) então n na base decima é 18, pois $18 = 1\\times 2^4 + 0\\times 2^3 + 0\\times 2^2 + 1\\times 2^1 + 2\\times 2^0.$\n",
        "\n",
        "3.   Um número é palíndromo se ele é o mesmo se lido nos dois sentidos (da esquerda para à direita ou da direita para à esquerda). Escreva uma função que verifique se um número inteiro $n$ é palíndromo. Exemplo: $537765$ e $34243$ são palídromos e $567675$ não é palíndromo.\n",
        "\n",
        "4.   Dados $n > 0$ e dois inteiros positivos $i$ e $j$ diferentes de zero, escreva uma função que mostre na tela, em ordem crescente on $n$ primeiros números naturais que são múltiplos de $i$ ou de $j$ ou de ambos.\n",
        "\n",
        "5. Dizemos que um número inteiro e positivo $n$ é perfeito se for igual à soma de seus divisores positivos diferentes de $n$. Exemplo: $6$ é perfeito, pois $1+2+3=6$. Escreva uma função que receba um número inteiro positivo $n$ e verifique se $n$ é perfeito.\n",
        "\n",
        "6. Uma loja de discos anota diariamente durante o mês de setembro a quantidade de discos vendidos. Determinar em que dia do mês ocorreu a maior venda e qual foi a quantidade de discos vendida nesse dia.\n",
        "\n",
        "7. Qualquer número de quatro algarismos pode ser decomposto em duas dezenas formadas pelos seus dois primeiros e dois últimos algarismos.\n",
        "Exemplo: $1982$: $19$ e $82$. Escreva uma função que apresente todos os milhares (números com 4 algarismos) cuja raiz quadrada seja igual a soma das dezenas formadas pela decomposição acima. Exemplo: $\\sqrt{9801} = 99 = 9801$.\n",
        "\n",
        "8. Dados $n>0$, determinar a quantidade de divisores positivos e pares de $n$ e calcular a soma dos divisores positivos de $n$.\n",
        "\n",
        "9. Crie funções para escrever um programa que determine a soma dos $n$ primeiros números primos."
      ],
      "metadata": {
        "id": "o_9lhsVVQ2GN"
      }
    },
    {
      "cell_type": "code",
      "source": [
        "# Função que verifica se n é primo\n",
        "def verifica_primo(n):\n",
        "  i = 2\n",
        "  primo = True #significa que n é primo\n",
        "  while (i <= n//2 and primo):\n",
        "    if n % i == 0:\n",
        "      primo = False\n",
        "    print(i)\n",
        "    i = i + 1\n",
        "  return primo\n",
        "\n",
        "def main():\n",
        "  n = 10000\n",
        "  print(n, \"é primo? \", verifica_primo(n))\n",
        "\n",
        "main()\n"
      ],
      "metadata": {
        "colab": {
          "base_uri": "https://localhost:8080/"
        },
        "id": "Be9Tw9ldpJ8I",
        "outputId": "30409616-33da-41d1-cae1-170b31a304cf"
      },
      "execution_count": null,
      "outputs": [
        {
          "output_type": "stream",
          "name": "stdout",
          "text": [
            "2\n",
            "10000 é primo?  False\n"
          ]
        }
      ]
    },
    {
      "cell_type": "code",
      "source": [],
      "metadata": {
        "id": "nJYIK4ZzuDH1"
      },
      "execution_count": null,
      "outputs": []
    }
  ]
}