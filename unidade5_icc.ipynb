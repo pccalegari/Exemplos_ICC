{
  "nbformat": 4,
  "nbformat_minor": 0,
  "metadata": {
    "colab": {
      "provenance": [],
      "authorship_tag": "ABX9TyPnS91n72UbWVgk5hta9dRF",
      "include_colab_link": true
    },
    "kernelspec": {
      "name": "python3",
      "display_name": "Python 3"
    },
    "language_info": {
      "name": "python"
    }
  },
  "cells": [
    {
      "cell_type": "markdown",
      "metadata": {
        "id": "view-in-github",
        "colab_type": "text"
      },
      "source": [
        "<a href=\"https://colab.research.google.com/github/pccalegari/Exemplos_ICC/blob/main/unidade5_icc.ipynb\" target=\"_parent\"><img src=\"https://colab.research.google.com/assets/colab-badge.svg\" alt=\"Open In Colab\"/></a>"
      ]
    },
    {
      "cell_type": "markdown",
      "metadata": {
        "id": "rRH8GXuTqTjd"
      },
      "source": [
        "\n",
        "\n",
        "\n",
        "\n",
        "# Unidade 5 - Estruturas de dados básicas\n",
        "\n",
        "\n"
      ]
    },
    {
      "cell_type": "markdown",
      "metadata": {
        "id": "SUHnaI9tH795"
      },
      "source": [
        "Até agora estudamos variáveis simples, capazes de armazenar apenas um tipo, como *bool*, *float* e *int*. Nesta unidade, vamos estudar algumas estruturas de dados simples, os **vetores** e as **matrizes**, em um contexto geral. Estas estruturas servem para armazenar dados durante a execução do programa. Vamos ver exemplos de aplicação destas estruturas na modelagem e resolução de problemas computacionais. Em seguida, vamos estudar as estruturas de dados da linguagem de programação *Python*, como listas, dicionários, entre outras, para nos auxiliar na implementação de vetores e matrizes."
      ]
    },
    {
      "cell_type": "markdown",
      "source": [
        "# Vetores\n",
        "\n",
        "Vetores são estruturas de dados indexadas usadas para armazenar dados de um mesmo tipo: *int*, *float* e *str*.\n",
        "\n",
        "O exemplo a seguir apresenta um vetor de números inteiros de tamanho 6, pois possui seis posições. Cada posição é indicada por um índice.\n",
        "\n",
        "\n",
        "\\begin{array}{cccccc}\n",
        "0 & 1 & \\hspace{0.3pc} 2 & 3 & 4 & \\hspace{0.3pc} 5\\\\\n",
        "\\end{array}\n",
        "\\begin{array}{|c|c|c|c|c|c|}\n",
        "\\hline\n",
        "-1 & 13 & 0 & 3 & 2 &17 \\\\\n",
        "\\hline\n",
        "\\end{array}\n",
        "\n",
        "O próximo exemplo apresenta um vetor de números reais (tipo *float*) de tamanho 10. Podemos usar um vetor de números reais para armazenar as notas de uma turma de estudantes.\n",
        "\n",
        "\n",
        "\\begin{array}{cccccccccc}\n",
        "0 & & 1 & & 2 & & 3 & & 4  & &5 & &  6 & & 7 & & 8 &  9\\\\\n",
        "\\end{array}\n",
        "\\begin{array}{|c|c|c|c|c|c|c|c|c|c|}\n",
        "\\hline\n",
        "9.5 & 10.0 & 9.0 & 5.5 & 6.0 & 3.5 & 8.5 & 7.0 & 7.5 & 5  \\\\\n",
        "\\hline\n",
        "\\end{array}\n",
        "\n",
        "**Uso de vetores:**\n",
        "\n",
        "\n",
        "\n",
        "*   Os índices são usados para acessar uma posição do vetor.\n",
        "*   Um índice é um número inteiro, em algumas linguagens, um número natural.\n",
        "*   O índice da primeira posição é zero.\n",
        "\n",
        "Podemos criar um vetor em *Python* usando uma **lista**. O exemplo abaixo apresenta como acessamos a infomação armazenada em uma determinada posição do vetor.\n"
      ],
      "metadata": {
        "id": "BzfCDkbctjB2"
      }
    },
    {
      "cell_type": "code",
      "metadata": {
        "id": "zlmv5UJ9IHbv",
        "colab": {
          "base_uri": "https://localhost:8080/"
        },
        "outputId": "54a2f7d4-2048-44c3-90c2-90105e32959d"
      },
      "source": [
        "x = [-1, 13, 0, 3, 2, 17]\n",
        "notas = [9.5, 10.0, 9.0, 5.5, 6.0, 3.5, 8.5, 7.0, 7.5, 5]\n",
        "\n",
        "# Acesso para mostrar valor armazenado\n",
        "print(x[0])\n",
        "\n",
        "print(notas[3])\n",
        "\n",
        "# Acesso para alterar um valor armazenado\n",
        "notas[4] = 0.0\n",
        "\n",
        "print(notas)"
      ],
      "execution_count": null,
      "outputs": [
        {
          "output_type": "stream",
          "name": "stdout",
          "text": [
            "-1\n",
            "5.5\n",
            "[9.5, 10.0, 9.0, 5.5, 0.0, 3.5, 8.5, 7.0, 7.5, 5]\n"
          ]
        }
      ]
    },
    {
      "cell_type": "markdown",
      "source": [
        "**Percorrimento de Vetores**\n",
        "\n",
        "Percorrer um vetor significa passar por todas as posições dele. Para fazer isso, precisamos saber o tamanho (quantidade de posições do vetor).  Em *Python* a função *len()* retorna o tamanho de uma lista, nesse caso, um vetor. Um padrão para percorrer um vetor é utilizar um comando de repetição, como no exemplo a seguir.\n",
        "\n",
        "\n",
        "\n",
        "\n",
        "\n"
      ],
      "metadata": {
        "id": "vs71n2bXh3_1"
      }
    },
    {
      "cell_type": "code",
      "source": [
        "notas = [9.5, 10.0, 9.0, 5.5, 6.0, 3.5, 8.5, 7.0, 7.5, 5]\n",
        "n = len(notas)\n",
        "print(\"Tamanho do vetor x: \", n)\n",
        "print(\"Dados armazenados em cada posição de x:\")\n",
        "for i in range(n):\n",
        "   print(\"Posição: \", i, \"Valor: \", notas[i])\n"
      ],
      "metadata": {
        "id": "NFJAfVC3DFS_",
        "colab": {
          "base_uri": "https://localhost:8080/"
        },
        "outputId": "55c24de6-77ad-4b43-ef04-82265fe9801d"
      },
      "execution_count": null,
      "outputs": [
        {
          "output_type": "stream",
          "name": "stdout",
          "text": [
            "Tamanho do vetor x:  10\n",
            "Dados armazenados em cada posição de x:\n",
            "Posição:  0 Valor:  9.5\n",
            "Posição:  1 Valor:  10.0\n",
            "Posição:  2 Valor:  9.0\n",
            "Posição:  3 Valor:  5.5\n",
            "Posição:  4 Valor:  6.0\n",
            "Posição:  5 Valor:  3.5\n",
            "Posição:  6 Valor:  8.5\n",
            "Posição:  7 Valor:  7.0\n",
            "Posição:  8 Valor:  7.5\n",
            "Posição:  9 Valor:  5\n"
          ]
        }
      ]
    },
    {
      "cell_type": "markdown",
      "source": [
        "Com a linguagem *Python* podemos usar índice negativos. Índices negativos indicam elementos da direita para a esquerda ao invés de da esquerda para a direita. Mas para cada tamanho de vetor, os índices possuem um limite inferior e superior.  \n",
        "Um erro comum é acessar uma posição do vetor que não existe, ou seja, ultrapassar os limites inferior e superior. A mensagem de erro quando acessamos um índice inválido é *index out of range*.\n",
        "\n",
        "No exemplo anterior, podemos acessar os seguintes índices:\n",
        "\n",
        "\\begin{array}{cccccccccc}\n",
        "-10 & -9 & -8 &  -7  & -6  & -5 & -4 & -3 & -2 & -1 \\\\\n",
        "0 &  1 &  2  & 3 &  4   &5  &  6  & 7  & 8 &  9\\\\\n",
        "\\end{array}\n",
        "\\begin{array}{|c|c|c|c|c|c|c|c|c|c|}\n",
        "\\hline\n",
        "9.5 & 10.0 & 9.0 & 5.5 & 6.0 & 3.5 & 8.5 & 7.0 & 7.5 & 5  \\\\\n",
        "\\hline\n",
        "\\end{array}\n",
        "\n",
        "Experimente incluir no programa acima, uma de cada vez, as linhas:\n",
        "\n",
        "```\n",
        "print(x[-1])\n",
        "\n",
        "print(x[-10])\n",
        "\n",
        "print(x[10])\n",
        "\n",
        "print(x[-11])\n",
        "```\n",
        "\n",
        "Agora, vamos estenter um pouquinho os conceitos, apresentando as listas.\n",
        "\n",
        "**Listas**\n",
        "\n",
        "São estruturas de dados (tipo *list*) de dados sequenciais e indexadas. Uma lista é uma sequência ou coleção de dados de qualquer tipo, *int*, *bool*, *str*, *list*, entre outros. Os elementos da lista são separados por vírgula.\n",
        "\n",
        "```\n",
        "x = [-1, 1.2, 'Liz', True, [1, 2]]\n",
        "```\n",
        "Podemos criar uma lista vazia.\n",
        "\n",
        "```\n",
        "l = []\n",
        "```\n",
        "Experimente os comandos acima, incluido\n",
        "\n",
        "```\n",
        "m = len(x)\n",
        "print(len(l))\n",
        "print(type(x))\n",
        "for elemento in x:\n",
        "   print(type(elemento))\n",
        "```\n",
        "\n",
        "No comando vemos um uso do comando *for* diferente do que vínhamos usando. Nesse exemplo, **elemento** é a variável do laço de repetição da lista com nome **x**. Dentro do bloco do comando de repetição (corpo do laço) temos a instrução *print(type(elemento))* que vai mostrar o tipo de variável de cada dado armazenado na lista. A cada **iteração** do laço de repetição, um teste verifica se ainda existem itens na lista para serem processados. Se não há mais nenhum item, a repetição termina."
      ],
      "metadata": {
        "id": "3LJB1bD1J8Eh"
      }
    },
    {
      "cell_type": "code",
      "source": [
        "\n"
      ],
      "metadata": {
        "id": "f8o-CFMveTD9"
      },
      "execution_count": null,
      "outputs": []
    },
    {
      "cell_type": "markdown",
      "source": [
        "Com estes conceitos iniciais de listas, podemos fazer a leitura de um vetor de qualquer tamanho.\n",
        "\n",
        "**Leitura de um vetor:**\n",
        "\n",
        "Para receber um vetor, precisamos ler elemento a elemento, usando o padrão de percorrimento. Para isso, inicialmente criamos uma lista vazia, recebemos o tamanho do vetor, e depois com um comando de repetição fazemos a inicialização elemento a elemento, usando o método *append*. O operador ponto pode ser usado para acessar métodos nativos da linguagem *Python* para listas. O método *append* insere o argumento passado para ele no final de uma lista. Veja o exemplo."
      ],
      "metadata": {
        "id": "-XuBn5Nrcy8W"
      }
    },
    {
      "cell_type": "code",
      "source": [
        "# Cria lista vazia\n",
        "x = []\n",
        "# Recebe o tamanho do vetor\n",
        "n = int(input(\"Digite o tamanho do vetor\"))\n",
        "print(\"Digite \", n, \" números inteiros.\")\n",
        "for i in range(n):\n",
        "   valor = int(input())\n",
        "   x.append(valor)\n",
        "\n",
        "print(x)"
      ],
      "metadata": {
        "id": "-FjioxKkKdCd"
      },
      "execution_count": null,
      "outputs": []
    },
    {
      "cell_type": "markdown",
      "source": [
        "**Exercícios:**\n",
        "\n",
        "1.  Escreva uma função que receba dois vetores e devolva a soma destes vetores.\n",
        "2.  Escreva uma função que calcule o produto escalar de dois vetores.\n",
        "3.  Escreva uma função receba um vetor e devolva o seu valor máximo (em valor absoluto).\n",
        "4.  Dados $n>0$ lançamentos de um dado de seis lados, calcule a frequência de cada número."
      ],
      "metadata": {
        "id": "LLkCzzFLj5P6"
      }
    },
    {
      "cell_type": "markdown",
      "source": [
        "**Exemplos de problemas com listas:**\n",
        "\n",
        "1. Escreva uma função que, dada uma lista $l$, devolve uma lista cópia de $l$.\n",
        "\n",
        "2. Crie uma função que, dadas duas listas $l_1$ e $l_2$, adiciona os elementos de $l_2$ no final de $l_1$.\n",
        "\n",
        "3.  Escreva uma função que, dada uma lista $l$ e um valor $x$, devolve a primeira posição de $l$ que é igual a x ou devolve -1 se $x$ não está em $l$.\n",
        "\n",
        "4. Devolva uma função que dada uma lista, devolve uma lista com os elementos na ordem inversa."
      ],
      "metadata": {
        "id": "4cCOtqpCkmnt"
      }
    },
    {
      "cell_type": "markdown",
      "source": [
        "**Outros métodos de listas:**\n",
        "\n",
        "*  Para fatiar listas\n",
        "\n",
        "```\n",
        "l[i:f] # i: indice início e f: índice fim, f-1\n",
        "l[i:f:p]  # percorre os índices r = i + k*p, k =0,1,...\n",
        "```\n",
        "\n",
        "*   Para copiar listas:\n",
        "\n",
        "```\n",
        "l2 = l.copy() ou l2 = l[:]\n",
        "```\n",
        "\n",
        "Atenção:\n",
        "```\n",
        "l2 = l1\n",
        "```\n",
        "não faz uma cópia da lista, apenas uma referência.\n",
        "\n",
        "*   Adiciona listas:\n",
        "\n",
        "Adiciona os elementos de l2 no fim da lista l1.\n",
        "```\n",
        "l1.extend(l2)\n",
        "```\n",
        "\n",
        "*   Busca por elemento:\n",
        "\n",
        "```\n",
        "l.index(x)  # devolve primeiro índice de l tal que l[i]==x\n",
        "```\n",
        "\n",
        "*   Inverte ordem dos elementos:\n",
        "\n",
        "```\n",
        "l.reverse()  # inverte a ordem dos elemetos na própria l\n",
        "```"
      ],
      "metadata": {
        "id": "eYop9N91kf3T"
      }
    },
    {
      "cell_type": "code",
      "source": [],
      "metadata": {
        "id": "J9sKomtRcBfj"
      },
      "execution_count": null,
      "outputs": []
    },
    {
      "cell_type": "code",
      "source": [],
      "metadata": {
        "id": "9q9w7ja8jzG6"
      },
      "execution_count": 7,
      "outputs": []
    },
    {
      "cell_type": "markdown",
      "source": [
        "**Mais exemplos com listas:**\n",
        "\n",
        "1.   Escreva uma função que dados uma lista l, um índice i e um valor x, insere x na posição i.\n",
        "2.   Escreva uma função que recebe uma lista e um índice, remove essa posição da lista e devolve o velor removido.\n",
        "3.   Escreva uma função que dados uma lista l e um valor x, remove a primeira ocorrência de x em  l.\n",
        "\n"
      ],
      "metadata": {
        "id": "7gESyvmpheXR"
      }
    },
    {
      "cell_type": "code",
      "source": [],
      "metadata": {
        "id": "K5fgAhiIkqX9"
      },
      "execution_count": null,
      "outputs": []
    },
    {
      "cell_type": "markdown",
      "source": [
        "**Strings**\n",
        "\n",
        "*   São sequências de caracteres, sendo que cada caracter pode ser acessado por índices (como listas).\n",
        "\n",
        "*   Strings são imutáveis.\n",
        "\n",
        "*   O método len devolve o tamanho (número de caracteres) da string.\n",
        "\n",
        "*  O operador booleano in para duas strings, retorna True se a primeira aparecer como parte da segunda.\n",
        "\n"
      ],
      "metadata": {
        "id": "NFoQE1s4mRcf"
      }
    },
    {
      "cell_type": "code",
      "source": [
        "\n"
      ],
      "metadata": {
        "id": "U-DoBJZem_H9"
      },
      "execution_count": null,
      "outputs": []
    },
    {
      "cell_type": "markdown",
      "source": [
        "**Mais alguns métodos para listas:**\n",
        "\n",
        "*  O método list transforma uma *string* em uma lista de letras.\n",
        "\n",
        "*  Remoção:\n",
        "\n",
        "Para remover elementos e um lista por meio do índice podemos usar os métodos pop ou del (nesse perdemos o elemento). Quando sabemos o elemento a ser removido, mas não o índice, podemos usar o remove.\n",
        "\n",
        "```\n",
        "s = 'string'\n",
        "l = list(s)\n",
        "x = l.pop(1)\n",
        "del l[1]\n",
        "```\n",
        "\n",
        "*   O método split quebra uma *string* (sequência de caracteres) em uma lista de palavras.\n",
        "\n",
        "*   O método join faz o inverso do método split.\n",
        "\n",
        "```\n",
        "l.extend(['a','b','c'])\n",
        "limitante = ' '\n",
        "limitante.join(l)\n",
        "```\n",
        "\n",
        "**Exemplos**\n",
        "\n",
        "1. Escreva uma função que receba uma *string* e verifique se ela é um palíndrome."
      ],
      "metadata": {
        "id": "nvAHE36Xkid-"
      }
    },
    {
      "cell_type": "code",
      "source": [
        "s='string'\n",
        "l = list(s)\n",
        "print(l)\n",
        "x = l.pop(0)\n",
        "del l[2]\n",
        "print(l)\n",
        "l.extend(['a','i'])\n",
        "limitante=''\n",
        "a = limitante.join(l)\n",
        "a = a + ' hoje'\n",
        "print(a)\n",
        "b = a.split()\n",
        "print(b)\n",
        "limitante = ' '\n",
        "an = limitante.join(b)\n",
        "print(an)"
      ],
      "metadata": {
        "id": "Tux_v4zsqq7Y"
      },
      "execution_count": null,
      "outputs": []
    },
    {
      "cell_type": "code",
      "source": [
        "a = \"ab e ba\" #\"saudavel leva duas\"\n",
        "b = a.split()\n",
        "print(b)\n",
        "c = b[0]+b[1]+b[2]\n",
        "print(c)\n",
        "i = 0\n",
        "palin = True\n",
        "while(i < len(c)//2 and palin):\n",
        "  if c[i] != c[len(c)-1-i]:\n",
        "    palin = False\n",
        "  i += 1\n",
        "print(palin)\n"
      ],
      "metadata": {
        "id": "gnXTcbqLvdpZ"
      },
      "execution_count": null,
      "outputs": []
    },
    {
      "cell_type": "markdown",
      "source": [
        "**Exercícios:**\n",
        "\n",
        "1.  Escreva uma função que receba as informações de um estudante, nome, matrícula e três notas e as armazene em uma lista.\n",
        "\n",
        "2.  Dada uma sequência de $n > 0$ números inteiros, apresentá-los eliminando as repetições.\n",
        "\n",
        "3.  Dados dois números naturais $m$ e $n$ e duas sequências ordenadas com $m$ e $n$ números inteiros, obter uma única sequência ordenada contendo todos os elementos das sequências originais sem repetição. Sugestão: Imagine uma situação real, por exemplo, dois fichários de uma biblioteca.\n",
        "\n",
        "4.  Considere uma lista da forma descrita no exercćio 1. Escreva uma função que receba a lista e outros parâmetros que sejam necessários e que devola a média aritmética das notas do estudante."
      ],
      "metadata": {
        "id": "jmSpwHaTsrkj"
      }
    }
  ]
}